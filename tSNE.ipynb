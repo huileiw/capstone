{
 "cells": [
  {
   "cell_type": "markdown",
   "metadata": {},
   "source": [
    "### Using tSNE to visualize the ingredient space for recipes"
   ]
  },
  {
   "cell_type": "code",
   "execution_count": 1,
   "metadata": {
    "collapsed": true
   },
   "outputs": [],
   "source": [
    "import pandas as pd\n",
    "import numpy as np\n",
    "import math\n",
    "import re\n",
    "from ingredient_parser.en import parse \n",
    "\n",
    "%matplotlib inline\n",
    "import matplotlib\n",
    "import seaborn as sns\n",
    "matplotlib.rcParams['savefig.dpi'] = 144"
   ]
  },
  {
   "cell_type": "markdown",
   "metadata": {},
   "source": [
    "#### Process data"
   ]
  },
  {
   "cell_type": "code",
   "execution_count": 6,
   "metadata": {
    "collapsed": true
   },
   "outputs": [],
   "source": [
    "import pickle\n",
    "with open('df.p', 'rb') as f:\n",
    "    df = pickle.load(f)"
   ]
  },
  {
   "cell_type": "code",
   "execution_count": 7,
   "metadata": {
    "collapsed": false
   },
   "outputs": [
    {
     "data": {
      "text/html": [
       "<div>\n",
       "<table border=\"1\" class=\"dataframe\">\n",
       "  <thead>\n",
       "    <tr style=\"text-align: right;\">\n",
       "      <th></th>\n",
       "      <th>recipe_id</th>\n",
       "      <th>fava beans</th>\n",
       "      <th>ale</th>\n",
       "      <th>mortadella</th>\n",
       "      <th>skate</th>\n",
       "      <th>parmesan</th>\n",
       "      <th>passion fruit</th>\n",
       "      <th>milk</th>\n",
       "      <th>blueberries</th>\n",
       "      <th>bell peppers</th>\n",
       "      <th>...</th>\n",
       "      <th>jerusalem artichoke</th>\n",
       "      <th>wonton</th>\n",
       "      <th>caraway</th>\n",
       "      <th>potato</th>\n",
       "      <th>food color</th>\n",
       "      <th>daikon</th>\n",
       "      <th>soy sauce</th>\n",
       "      <th>sesame seeds</th>\n",
       "      <th>beverage</th>\n",
       "      <th>nutritional yeast flakes</th>\n",
       "    </tr>\n",
       "  </thead>\n",
       "  <tbody>\n",
       "    <tr>\n",
       "      <th>0</th>\n",
       "      <td>70404</td>\n",
       "      <td>0</td>\n",
       "      <td>0</td>\n",
       "      <td>0</td>\n",
       "      <td>0</td>\n",
       "      <td>0</td>\n",
       "      <td>0</td>\n",
       "      <td>0</td>\n",
       "      <td>0</td>\n",
       "      <td>0</td>\n",
       "      <td>...</td>\n",
       "      <td>0</td>\n",
       "      <td>0</td>\n",
       "      <td>0</td>\n",
       "      <td>0</td>\n",
       "      <td>0</td>\n",
       "      <td>0</td>\n",
       "      <td>0</td>\n",
       "      <td>0</td>\n",
       "      <td>0</td>\n",
       "      <td>0</td>\n",
       "    </tr>\n",
       "  </tbody>\n",
       "</table>\n",
       "<p>1 rows × 448 columns</p>\n",
       "</div>"
      ],
      "text/plain": [
       "   recipe_id  fava beans  ale  mortadella  skate  parmesan  passion fruit  \\\n",
       "0      70404           0    0           0      0         0              0   \n",
       "\n",
       "   milk  blueberries  bell peppers            ...             \\\n",
       "0     0            0             0            ...              \n",
       "\n",
       "   jerusalem artichoke  wonton  caraway  potato  food color  daikon  \\\n",
       "0                    0       0        0       0           0       0   \n",
       "\n",
       "   soy sauce  sesame seeds  beverage  nutritional yeast flakes  \n",
       "0          0             0         0                         0  \n",
       "\n",
       "[1 rows x 448 columns]"
      ]
     },
     "execution_count": 7,
     "metadata": {},
     "output_type": "execute_result"
    }
   ],
   "source": [
    "import pickle\n",
    "with open('df_ingre.p', 'rb') as f:\n",
    "    df_ingre = pickle.load(f)\n",
    "del df_ingre['title']\n",
    "del df_ingre['ingre1']\n",
    "del df_ingre['parsed']\n",
    "df_ingre.head(1)"
   ]
  },
  {
   "cell_type": "code",
   "execution_count": 54,
   "metadata": {
    "collapsed": false
   },
   "outputs": [],
   "source": [
    "df_ingre2 = df_ingre[df_ingre['recipe_id'].isin(df[df['Cat1'].isin(['World Cuisine','U.S. Recipes'])]['recipe_id'].tolist())]"
   ]
  },
  {
   "cell_type": "code",
   "execution_count": 55,
   "metadata": {
    "collapsed": true
   },
   "outputs": [],
   "source": [
    "df_ingre3 = df_ingre2.copy()\n",
    "del df_ingre3['recipe_id']"
   ]
  },
  {
   "cell_type": "markdown",
   "metadata": {},
   "source": [
    "#### Apply tSNE"
   ]
  },
  {
   "cell_type": "code",
   "execution_count": 56,
   "metadata": {
    "collapsed": true
   },
   "outputs": [],
   "source": [
    "from sklearn.manifold import TSNE\n",
    "#from sklearn.decomposition import PCA\n",
    "from sklearn.decomposition import TruncatedSVD"
   ]
  },
  {
   "cell_type": "code",
   "execution_count": 57,
   "metadata": {
    "collapsed": false
   },
   "outputs": [],
   "source": [
    "X = [[row[i] for i in xrange(len(row))] for row in df_ingre3.to_records(index=False)]"
   ]
  },
  {
   "cell_type": "code",
   "execution_count": 58,
   "metadata": {
    "collapsed": false
   },
   "outputs": [],
   "source": [
    "#X[:2]"
   ]
  },
  {
   "cell_type": "code",
   "execution_count": 150,
   "metadata": {
    "collapsed": false
   },
   "outputs": [
    {
     "name": "stdout",
     "output_type": "stream",
     "text": [
      "[t-SNE] Computing pairwise distances...\n",
      "[t-SNE] Computing 31 nearest neighbors...\n",
      "[t-SNE] Computed conditional probabilities for sample 1000 / 1642\n",
      "[t-SNE] Computed conditional probabilities for sample 1642 / 1642\n",
      "[t-SNE] Mean sigma: 0.866777\n",
      "[t-SNE] Iteration 25: error = 2.2612438, gradient norm = 0.0148114\n",
      "[t-SNE] Iteration 50: error = 2.1467071, gradient norm = 0.0150796\n",
      "[t-SNE] Iteration 75: error = 1.6939532, gradient norm = 0.0118731\n",
      "[t-SNE] Iteration 100: error = 1.6746691, gradient norm = 0.0123193\n",
      "[t-SNE] KL divergence after 100 iterations with early exaggeration: 1.674669\n",
      "[t-SNE] Iteration 125: error = 1.4825355, gradient norm = 0.0087352\n",
      "[t-SNE] Iteration 150: error = 1.5094644, gradient norm = 0.0105704\n",
      "[t-SNE] Iteration 175: error = 1.5181737, gradient norm = 0.0109404\n",
      "[t-SNE] Iteration 175: did not make any progress during the last 30 episodes. Finished.\n",
      "[t-SNE] Error after 175 iterations: 1.674669\n"
     ]
    }
   ],
   "source": [
    "#X_reduced = TruncatedSVD(n_components=40, random_state=0).fit_transform(X)\n",
    "\n",
    "X_embedded = TSNE(n_components=2, perplexity=10, verbose=2).fit_transform(X)"
   ]
  },
  {
   "cell_type": "code",
   "execution_count": 60,
   "metadata": {
    "collapsed": false,
    "scrolled": true
   },
   "outputs": [
    {
     "data": {
      "text/plain": [
       "0"
      ]
     },
     "execution_count": 60,
     "metadata": {},
     "output_type": "execute_result"
    }
   ],
   "source": [
    "len(df_ingre2) - len(df_ingre2['recipe_id'].drop_duplicates())"
   ]
  },
  {
   "cell_type": "code",
   "execution_count": 61,
   "metadata": {
    "collapsed": false
   },
   "outputs": [
    {
     "data": {
      "text/plain": [
       "1642"
      ]
     },
     "execution_count": 61,
     "metadata": {},
     "output_type": "execute_result"
    }
   ],
   "source": [
    "len(df_ingre2)"
   ]
  },
  {
   "cell_type": "code",
   "execution_count": 63,
   "metadata": {
    "collapsed": false
   },
   "outputs": [
    {
     "data": {
      "text/plain": [
       "1642"
      ]
     },
     "execution_count": 63,
     "metadata": {},
     "output_type": "execute_result"
    }
   ],
   "source": [
    "df_merged = df_ingre2.merge(df, how = 'left', on = ['recipe_id'])\n",
    "len(df_merged)"
   ]
  },
  {
   "cell_type": "code",
   "execution_count": 82,
   "metadata": {
    "collapsed": true
   },
   "outputs": [],
   "source": [
    "def new_column (row):\n",
    "    if 'U.S.' in (row['Cat1']) :\n",
    "        return 'U.S. Recipes'\n",
    "    if row['Cat1']  == 'World Cuisine':\n",
    "        return row['Cat2']\n",
    "df_merged['new_Cat'] = df_merged.apply (lambda row: new_column (row),axis=1)"
   ]
  },
  {
   "cell_type": "code",
   "execution_count": 83,
   "metadata": {
    "collapsed": false
   },
   "outputs": [],
   "source": [
    "df_merged['new_Cat'] = df_merged['new_Cat'].fillna('NA')"
   ]
  },
  {
   "cell_type": "code",
   "execution_count": 84,
   "metadata": {
    "collapsed": false
   },
   "outputs": [],
   "source": [
    "#df_merged['Cat2'].fillna('NA').drop_duplicates().tolist()"
   ]
  },
  {
   "cell_type": "code",
   "execution_count": 113,
   "metadata": {
    "collapsed": false
   },
   "outputs": [
    {
     "data": {
      "text/plain": [
       "{'African': 5,\n",
       " 'Asian': 3,\n",
       " 'Australian and New Zealander': 7,\n",
       " 'Canadian': 4,\n",
       " 'European': 1,\n",
       " 'Latin American': 0,\n",
       " 'Middle Eastern': 8,\n",
       " 'NA': 6,\n",
       " 'U.S. Recipes': 2}"
      ]
     },
     "execution_count": 113,
     "metadata": {},
     "output_type": "execute_result"
    }
   ],
   "source": [
    "from collections import defaultdict\n",
    "d = dict()\n",
    "counter = 0\n",
    "for idx, item in enumerate(df_merged['new_Cat'].fillna('NA').drop_duplicates().tolist()):\n",
    "    d[item] = idx\n",
    "    #d[item[0]] = counter\n",
    "    #counter +=1\n",
    "d"
   ]
  },
  {
   "cell_type": "code",
   "execution_count": 88,
   "metadata": {
    "collapsed": false
   },
   "outputs": [],
   "source": [
    "df_merged['new_Cat_num'] = df_merged['new_Cat'].apply(lambda x:d[x])"
   ]
  },
  {
   "cell_type": "code",
   "execution_count": 98,
   "metadata": {
    "collapsed": false
   },
   "outputs": [],
   "source": [
    "Y = [item[0] for  item in df_merged['new_Cat_num'].to_frame().to_records(index=False)]"
   ]
  },
  {
   "cell_type": "code",
   "execution_count": 100,
   "metadata": {
    "collapsed": false
   },
   "outputs": [
    {
     "data": {
      "text/plain": [
       "1642"
      ]
     },
     "execution_count": 100,
     "metadata": {},
     "output_type": "execute_result"
    }
   ],
   "source": [
    "len(Y)"
   ]
  },
  {
   "cell_type": "markdown",
   "metadata": {},
   "source": [
    "#### Visualize recipes using tSNE"
   ]
  },
  {
   "cell_type": "code",
   "execution_count": 104,
   "metadata": {
    "collapsed": false
   },
   "outputs": [
    {
     "data": {
      "text/html": [
       "\n",
       "    <div class=\"bk-root\">\n",
       "        <a href=\"http://bokeh.pydata.org\" target=\"_blank\" class=\"bk-logo bk-logo-small bk-logo-notebook\"></a>\n",
       "        <span id=\"ee62530d-3340-4605-b79d-11c342d745b8\">Loading BokehJS ...</span>\n",
       "    </div>"
      ]
     },
     "metadata": {},
     "output_type": "display_data"
    },
    {
     "data": {
      "application/javascript": [
       "\n",
       "(function(global) {\n",
       "  function now() {\n",
       "    return new Date();\n",
       "  }\n",
       "\n",
       "  var force = \"1\";\n",
       "\n",
       "  if (typeof (window._bokeh_onload_callbacks) === \"undefined\" || force !== \"\") {\n",
       "    window._bokeh_onload_callbacks = [];\n",
       "    window._bokeh_is_loading = undefined;\n",
       "  }\n",
       "\n",
       "\n",
       "  \n",
       "  if (typeof (window._bokeh_timeout) === \"undefined\" || force !== \"\") {\n",
       "    window._bokeh_timeout = Date.now() + 5000;\n",
       "    window._bokeh_failed_load = false;\n",
       "  }\n",
       "\n",
       "  var NB_LOAD_WARNING = {'data': {'text/html':\n",
       "     \"<div style='background-color: #fdd'>\\n\"+\n",
       "     \"<p>\\n\"+\n",
       "     \"BokehJS does not appear to have successfully loaded. If loading BokehJS from CDN, this \\n\"+\n",
       "     \"may be due to a slow or bad network connection. Possible fixes:\\n\"+\n",
       "     \"</p>\\n\"+\n",
       "     \"<ul>\\n\"+\n",
       "     \"<li>re-rerun `output_notebook()` to attempt to load from CDN again, or</li>\\n\"+\n",
       "     \"<li>use INLINE resources instead, as so:</li>\\n\"+\n",
       "     \"</ul>\\n\"+\n",
       "     \"<code>\\n\"+\n",
       "     \"from bokeh.resources import INLINE\\n\"+\n",
       "     \"output_notebook(resources=INLINE)\\n\"+\n",
       "     \"</code>\\n\"+\n",
       "     \"</div>\"}};\n",
       "\n",
       "  function display_loaded() {\n",
       "    if (window.Bokeh !== undefined) {\n",
       "      Bokeh.$(\"#ee62530d-3340-4605-b79d-11c342d745b8\").text(\"BokehJS successfully loaded.\");\n",
       "    } else if (Date.now() < window._bokeh_timeout) {\n",
       "      setTimeout(display_loaded, 100)\n",
       "    }\n",
       "  }\n",
       "\n",
       "  function run_callbacks() {\n",
       "    window._bokeh_onload_callbacks.forEach(function(callback) { callback() });\n",
       "    delete window._bokeh_onload_callbacks\n",
       "    console.info(\"Bokeh: all callbacks have finished\");\n",
       "  }\n",
       "\n",
       "  function load_libs(js_urls, callback) {\n",
       "    window._bokeh_onload_callbacks.push(callback);\n",
       "    if (window._bokeh_is_loading > 0) {\n",
       "      console.log(\"Bokeh: BokehJS is being loaded, scheduling callback at\", now());\n",
       "      return null;\n",
       "    }\n",
       "    if (js_urls == null || js_urls.length === 0) {\n",
       "      run_callbacks();\n",
       "      return null;\n",
       "    }\n",
       "    console.log(\"Bokeh: BokehJS not loaded, scheduling load and callback at\", now());\n",
       "    window._bokeh_is_loading = js_urls.length;\n",
       "    for (var i = 0; i < js_urls.length; i++) {\n",
       "      var url = js_urls[i];\n",
       "      var s = document.createElement('script');\n",
       "      s.src = url;\n",
       "      s.async = false;\n",
       "      s.onreadystatechange = s.onload = function() {\n",
       "        window._bokeh_is_loading--;\n",
       "        if (window._bokeh_is_loading === 0) {\n",
       "          console.log(\"Bokeh: all BokehJS libraries loaded\");\n",
       "          run_callbacks()\n",
       "        }\n",
       "      };\n",
       "      s.onerror = function() {\n",
       "        console.warn(\"failed to load library \" + url);\n",
       "      };\n",
       "      console.log(\"Bokeh: injecting script tag for BokehJS library: \", url);\n",
       "      document.getElementsByTagName(\"head\")[0].appendChild(s);\n",
       "    }\n",
       "  };var element = document.getElementById(\"ee62530d-3340-4605-b79d-11c342d745b8\");\n",
       "  if (element == null) {\n",
       "    console.log(\"Bokeh: ERROR: autoload.js configured with elementid 'ee62530d-3340-4605-b79d-11c342d745b8' but no matching script tag was found. \")\n",
       "    return false;\n",
       "  }\n",
       "\n",
       "  var js_urls = ['https://cdn.pydata.org/bokeh/release/bokeh-0.12.2.min.js', 'https://cdn.pydata.org/bokeh/release/bokeh-widgets-0.12.2.min.js', 'https://cdn.pydata.org/bokeh/release/bokeh-compiler-0.12.2.min.js'];\n",
       "\n",
       "  var inline_js = [\n",
       "    function(Bokeh) {\n",
       "      Bokeh.set_log_level(\"info\");\n",
       "    },\n",
       "    \n",
       "    function(Bokeh) {\n",
       "      \n",
       "      Bokeh.$(\"#ee62530d-3340-4605-b79d-11c342d745b8\").text(\"BokehJS is loading...\");\n",
       "    },\n",
       "    function(Bokeh) {\n",
       "      console.log(\"Bokeh: injecting CSS: https://cdn.pydata.org/bokeh/release/bokeh-0.12.2.min.css\");\n",
       "      Bokeh.embed.inject_css(\"https://cdn.pydata.org/bokeh/release/bokeh-0.12.2.min.css\");\n",
       "      console.log(\"Bokeh: injecting CSS: https://cdn.pydata.org/bokeh/release/bokeh-widgets-0.12.2.min.css\");\n",
       "      Bokeh.embed.inject_css(\"https://cdn.pydata.org/bokeh/release/bokeh-widgets-0.12.2.min.css\");\n",
       "    }\n",
       "  ];\n",
       "\n",
       "  function run_inline_js() {\n",
       "    \n",
       "    if ((window.Bokeh !== undefined) || (force === \"1\")) {\n",
       "      for (var i = 0; i < inline_js.length; i++) {\n",
       "        inline_js[i](window.Bokeh);\n",
       "      }if (force === \"1\") {\n",
       "        display_loaded();\n",
       "      }} else if (Date.now() < window._bokeh_timeout) {\n",
       "      setTimeout(run_inline_js, 100);\n",
       "    } else if (!window._bokeh_failed_load) {\n",
       "      console.log(\"Bokeh: BokehJS failed to load within specified timeout.\");\n",
       "      window._bokeh_failed_load = true;\n",
       "    } else if (!force) {\n",
       "      var cell = $(\"#ee62530d-3340-4605-b79d-11c342d745b8\").parents('.cell').data().cell;\n",
       "      cell.output_area.append_execute_result(NB_LOAD_WARNING)\n",
       "    }\n",
       "\n",
       "  }\n",
       "\n",
       "  if (window._bokeh_is_loading === 0) {\n",
       "    console.log(\"Bokeh: BokehJS loaded, going straight to plotting\");\n",
       "    run_inline_js();\n",
       "  } else {\n",
       "    load_libs(js_urls, function() {\n",
       "      console.log(\"Bokeh: BokehJS plotting callback run at\", now());\n",
       "      run_inline_js();\n",
       "    });\n",
       "  }\n",
       "}(this));"
      ]
     },
     "metadata": {},
     "output_type": "display_data"
    }
   ],
   "source": [
    "from bokeh.charts import Bar, output_notebook, show\n",
    "output_notebook()\n"
   ]
  },
  {
   "cell_type": "code",
   "execution_count": 151,
   "metadata": {
    "collapsed": false,
    "scrolled": true
   },
   "outputs": [
    {
     "data": {
      "text/html": [
       "\n",
       "\n",
       "    <div class=\"bk-root\">\n",
       "        <div class=\"plotdiv\" id=\"d4c50546-822a-4694-ba4f-3086b5bbe0a3\"></div>\n",
       "    </div>\n",
       "<script type=\"text/javascript\">\n",
       "  \n",
       "  (function(global) {\n",
       "    function now() {\n",
       "      return new Date();\n",
       "    }\n",
       "  \n",
       "    var force = \"\";\n",
       "  \n",
       "    if (typeof (window._bokeh_onload_callbacks) === \"undefined\" || force !== \"\") {\n",
       "      window._bokeh_onload_callbacks = [];\n",
       "      window._bokeh_is_loading = undefined;\n",
       "    }\n",
       "  \n",
       "  \n",
       "    \n",
       "    if (typeof (window._bokeh_timeout) === \"undefined\" || force !== \"\") {\n",
       "      window._bokeh_timeout = Date.now() + 0;\n",
       "      window._bokeh_failed_load = false;\n",
       "    }\n",
       "  \n",
       "    var NB_LOAD_WARNING = {'data': {'text/html':\n",
       "       \"<div style='background-color: #fdd'>\\n\"+\n",
       "       \"<p>\\n\"+\n",
       "       \"BokehJS does not appear to have successfully loaded. If loading BokehJS from CDN, this \\n\"+\n",
       "       \"may be due to a slow or bad network connection. Possible fixes:\\n\"+\n",
       "       \"</p>\\n\"+\n",
       "       \"<ul>\\n\"+\n",
       "       \"<li>re-rerun `output_notebook()` to attempt to load from CDN again, or</li>\\n\"+\n",
       "       \"<li>use INLINE resources instead, as so:</li>\\n\"+\n",
       "       \"</ul>\\n\"+\n",
       "       \"<code>\\n\"+\n",
       "       \"from bokeh.resources import INLINE\\n\"+\n",
       "       \"output_notebook(resources=INLINE)\\n\"+\n",
       "       \"</code>\\n\"+\n",
       "       \"</div>\"}};\n",
       "  \n",
       "    function display_loaded() {\n",
       "      if (window.Bokeh !== undefined) {\n",
       "        Bokeh.$(\"#d4c50546-822a-4694-ba4f-3086b5bbe0a3\").text(\"BokehJS successfully loaded.\");\n",
       "      } else if (Date.now() < window._bokeh_timeout) {\n",
       "        setTimeout(display_loaded, 100)\n",
       "      }\n",
       "    }\n",
       "  \n",
       "    function run_callbacks() {\n",
       "      window._bokeh_onload_callbacks.forEach(function(callback) { callback() });\n",
       "      delete window._bokeh_onload_callbacks\n",
       "      console.info(\"Bokeh: all callbacks have finished\");\n",
       "    }\n",
       "  \n",
       "    function load_libs(js_urls, callback) {\n",
       "      window._bokeh_onload_callbacks.push(callback);\n",
       "      if (window._bokeh_is_loading > 0) {\n",
       "        console.log(\"Bokeh: BokehJS is being loaded, scheduling callback at\", now());\n",
       "        return null;\n",
       "      }\n",
       "      if (js_urls == null || js_urls.length === 0) {\n",
       "        run_callbacks();\n",
       "        return null;\n",
       "      }\n",
       "      console.log(\"Bokeh: BokehJS not loaded, scheduling load and callback at\", now());\n",
       "      window._bokeh_is_loading = js_urls.length;\n",
       "      for (var i = 0; i < js_urls.length; i++) {\n",
       "        var url = js_urls[i];\n",
       "        var s = document.createElement('script');\n",
       "        s.src = url;\n",
       "        s.async = false;\n",
       "        s.onreadystatechange = s.onload = function() {\n",
       "          window._bokeh_is_loading--;\n",
       "          if (window._bokeh_is_loading === 0) {\n",
       "            console.log(\"Bokeh: all BokehJS libraries loaded\");\n",
       "            run_callbacks()\n",
       "          }\n",
       "        };\n",
       "        s.onerror = function() {\n",
       "          console.warn(\"failed to load library \" + url);\n",
       "        };\n",
       "        console.log(\"Bokeh: injecting script tag for BokehJS library: \", url);\n",
       "        document.getElementsByTagName(\"head\")[0].appendChild(s);\n",
       "      }\n",
       "    };var element = document.getElementById(\"d4c50546-822a-4694-ba4f-3086b5bbe0a3\");\n",
       "    if (element == null) {\n",
       "      console.log(\"Bokeh: ERROR: autoload.js configured with elementid 'd4c50546-822a-4694-ba4f-3086b5bbe0a3' but no matching script tag was found. \")\n",
       "      return false;\n",
       "    }\n",
       "  \n",
       "    var js_urls = [];\n",
       "  \n",
       "    var inline_js = [\n",
       "      function(Bokeh) {\n",
       "        Bokeh.$(function() {\n",
       "            var docs_json = {\"08a7b273-1cee-486f-8c4e-0cffd376d4ee\":{\"roots\":{\"references\":[{\"attributes\":{\"legends\":[[\"Y\",[{\"id\":\"a5070066-67d0-4a29-9bb2-a44b73c18adc\",\"type\":\"GlyphRenderer\"}]]],\"plot\":{\"id\":\"52498e41-0ba8-44c2-a9bf-ac116a9d2de3\",\"subtype\":\"Figure\",\"type\":\"Plot\"}},\"id\":\"4493d8dd-94ea-48ce-ab00-45449e597e16\",\"type\":\"Legend\"},{\"attributes\":{\"active_drag\":\"auto\",\"active_scroll\":\"auto\",\"active_tap\":\"auto\",\"tools\":[{\"id\":\"cb241c85-2127-4a9a-ae99-9fcf10a78c01\",\"type\":\"ResetTool\"},{\"id\":\"c6736c50-eddc-4fa2-bed9-328ad3759641\",\"type\":\"HoverTool\"}]},\"id\":\"1d77760a-2d93-4048-8b60-d2160ff2e262\",\"type\":\"Toolbar\"},{\"attributes\":{},\"id\":\"a4bb5586-a9b3-4e1a-a032-a02607762190\",\"type\":\"BasicTickFormatter\"},{\"attributes\":{\"plot\":{\"id\":\"52498e41-0ba8-44c2-a9bf-ac116a9d2de3\",\"subtype\":\"Figure\",\"type\":\"Plot\"},\"ticker\":{\"id\":\"d3612448-7cd7-4752-9f0c-8d26adca5d4b\",\"type\":\"BasicTicker\"}},\"id\":\"45386839-5527-4912-ab09-f3ae776df9ec\",\"type\":\"Grid\"},{\"attributes\":{\"fill_color\":{\"field\":\"fill_color\"},\"line_color\":{\"field\":\"line_color\"},\"size\":{\"units\":\"screen\",\"value\":5},\"x\":{\"field\":\"x\"},\"y\":{\"field\":\"y\"}},\"id\":\"4d4fa89a-53a2-4c26-9fae-4489cc3d01c0\",\"type\":\"Circle\"},{\"attributes\":{},\"id\":\"97fd8435-3117-4872-951b-aafc16d81e2d\",\"type\":\"BasicTicker\"},{\"attributes\":{\"callback\":null},\"id\":\"32949428-7e1a-4c5d-9c33-94a90c796605\",\"type\":\"DataRange1d\"},{\"attributes\":{},\"id\":\"fcf0acc0-f876-4871-9dcf-4d8f6c9977e5\",\"type\":\"ToolEvents\"},{\"attributes\":{\"formatter\":{\"id\":\"a4bb5586-a9b3-4e1a-a032-a02607762190\",\"type\":\"BasicTickFormatter\"},\"plot\":{\"id\":\"52498e41-0ba8-44c2-a9bf-ac116a9d2de3\",\"subtype\":\"Figure\",\"type\":\"Plot\"},\"ticker\":{\"id\":\"97fd8435-3117-4872-951b-aafc16d81e2d\",\"type\":\"BasicTicker\"}},\"id\":\"57f6cf00-a69d-4d13-abe0-22d71677e225\",\"type\":\"LinearAxis\"},{\"attributes\":{},\"id\":\"d3612448-7cd7-4752-9f0c-8d26adca5d4b\",\"type\":\"BasicTicker\"},{\"attributes\":{\"formatter\":{\"id\":\"8a79029a-0a0e-492c-88c2-e073042cd19a\",\"type\":\"BasicTickFormatter\"},\"plot\":{\"id\":\"52498e41-0ba8-44c2-a9bf-ac116a9d2de3\",\"subtype\":\"Figure\",\"type\":\"Plot\"},\"ticker\":{\"id\":\"d3612448-7cd7-4752-9f0c-8d26adca5d4b\",\"type\":\"BasicTicker\"}},\"id\":\"821a7c5a-d9f4-488f-8939-fcc8de37b60e\",\"type\":\"LinearAxis\"},{\"attributes\":{\"below\":[{\"id\":\"821a7c5a-d9f4-488f-8939-fcc8de37b60e\",\"type\":\"LinearAxis\"}],\"left\":[{\"id\":\"57f6cf00-a69d-4d13-abe0-22d71677e225\",\"type\":\"LinearAxis\"}],\"renderers\":[{\"id\":\"821a7c5a-d9f4-488f-8939-fcc8de37b60e\",\"type\":\"LinearAxis\"},{\"id\":\"45386839-5527-4912-ab09-f3ae776df9ec\",\"type\":\"Grid\"},{\"id\":\"57f6cf00-a69d-4d13-abe0-22d71677e225\",\"type\":\"LinearAxis\"},{\"id\":\"c0986a01-510f-4cac-95f2-b1d1c8efa5f2\",\"type\":\"Grid\"},{\"id\":\"4493d8dd-94ea-48ce-ab00-45449e597e16\",\"type\":\"Legend\"},{\"id\":\"a5070066-67d0-4a29-9bb2-a44b73c18adc\",\"type\":\"GlyphRenderer\"}],\"title\":{\"id\":\"5802dfa9-e7b5-4cea-8c4e-cd940ca51833\",\"type\":\"Title\"},\"tool_events\":{\"id\":\"fcf0acc0-f876-4871-9dcf-4d8f6c9977e5\",\"type\":\"ToolEvents\"},\"toolbar\":{\"id\":\"1d77760a-2d93-4048-8b60-d2160ff2e262\",\"type\":\"Toolbar\"},\"x_range\":{\"id\":\"32949428-7e1a-4c5d-9c33-94a90c796605\",\"type\":\"DataRange1d\"},\"y_range\":{\"id\":\"b12a097a-0a1b-483d-9ac9-19ecd873638d\",\"type\":\"DataRange1d\"}},\"id\":\"52498e41-0ba8-44c2-a9bf-ac116a9d2de3\",\"subtype\":\"Figure\",\"type\":\"Plot\"},{\"attributes\":{\"fill_alpha\":{\"value\":0.1},\"fill_color\":{\"value\":\"#1f77b4\"},\"line_alpha\":{\"value\":0.1},\"line_color\":{\"value\":\"#1f77b4\"},\"size\":{\"units\":\"screen\",\"value\":5},\"x\":{\"field\":\"x\"},\"y\":{\"field\":\"y\"}},\"id\":\"8173e1a8-8a70-45b7-a418-ff3865a90749\",\"type\":\"Circle\"},{\"attributes\":{\"plot\":null,\"text\":null},\"id\":\"5802dfa9-e7b5-4cea-8c4e-cd940ca51833\",\"type\":\"Title\"},{\"attributes\":{\"callback\":null},\"id\":\"b12a097a-0a1b-483d-9ac9-19ecd873638d\",\"type\":\"DataRange1d\"},{\"attributes\":{\"dimension\":1,\"plot\":{\"id\":\"52498e41-0ba8-44c2-a9bf-ac116a9d2de3\",\"subtype\":\"Figure\",\"type\":\"Plot\"},\"ticker\":{\"id\":\"97fd8435-3117-4872-951b-aafc16d81e2d\",\"type\":\"BasicTicker\"}},\"id\":\"c0986a01-510f-4cac-95f2-b1d1c8efa5f2\",\"type\":\"Grid\"},{\"attributes\":{\"data_source\":{\"id\":\"c1c25156-340a-481f-9e62-9834b29d966b\",\"type\":\"ColumnDataSource\"},\"glyph\":{\"id\":\"4d4fa89a-53a2-4c26-9fae-4489cc3d01c0\",\"type\":\"Circle\"},\"hover_glyph\":null,\"nonselection_glyph\":{\"id\":\"8173e1a8-8a70-45b7-a418-ff3865a90749\",\"type\":\"Circle\"},\"selection_glyph\":null},\"id\":\"a5070066-67d0-4a29-9bb2-a44b73c18adc\",\"type\":\"GlyphRenderer\"},{\"attributes\":{\"callback\":null,\"plot\":{\"id\":\"52498e41-0ba8-44c2-a9bf-ac116a9d2de3\",\"subtype\":\"Figure\",\"type\":\"Plot\"},\"tooltips\":[[\"y\",\"$y\"],[\"x\",\"$x\"]]},\"id\":\"c6736c50-eddc-4fa2-bed9-328ad3759641\",\"type\":\"HoverTool\"},{\"attributes\":{},\"id\":\"8a79029a-0a0e-492c-88c2-e073042cd19a\",\"type\":\"BasicTickFormatter\"},{\"attributes\":{\"plot\":{\"id\":\"52498e41-0ba8-44c2-a9bf-ac116a9d2de3\",\"subtype\":\"Figure\",\"type\":\"Plot\"}},\"id\":\"cb241c85-2127-4a9a-ae99-9fcf10a78c01\",\"type\":\"ResetTool\"},{\"attributes\":{\"callback\":null,\"column_names\":[\"y\",\"x\",\"line_color\",\"fill_color\"],\"data\":{\"fill_color\":[\"#3288bd\",\"#66c2a5\",\"#abdda4\",\"#3288bd\",\"#e6f598\",\"#e6f598\",\"#e6f598\",\"#e6f598\",\"#e6f598\",\"#e6f598\",\"#e6f598\",\"#abdda4\",\"#3288bd\",\"#3288bd\",\"#abdda4\",\"#abdda4\",\"#abdda4\",\"#abdda4\",\"#abdda4\",\"#abdda4\",\"#abdda4\",\"#abdda4\",\"#abdda4\",\"#abdda4\",\"#abdda4\",\"#3288bd\",\"#3288bd\",\"#3288bd\",\"#3288bd\",\"#3288bd\",\"#3288bd\",\"#3288bd\",\"#3288bd\",\"#3288bd\",\"#3288bd\",\"#3288bd\",\"#abdda4\",\"#3288bd\",\"#abdda4\",\"#3288bd\",\"#3288bd\",\"#3288bd\",\"#3288bd\",\"#3288bd\",\"#3288bd\",\"#3288bd\",\"#3288bd\",\"#3288bd\",\"#3288bd\",\"#3288bd\",\"#3288bd\",\"#3288bd\",\"#3288bd\",\"#3288bd\",\"#3288bd\",\"#3288bd\",\"#3288bd\",\"#3288bd\",\"#3288bd\",\"#3288bd\",\"#3288bd\",\"#3288bd\",\"#3288bd\",\"#3288bd\",\"#3288bd\",\"#3288bd\",\"#3288bd\",\"#3288bd\",\"#3288bd\",\"#3288bd\",\"#3288bd\",\"#3288bd\",\"#3288bd\",\"#3288bd\",\"#3288bd\",\"#3288bd\",\"#3288bd\",\"#3288bd\",\"#3288bd\",\"#3288bd\",\"#3288bd\",\"#3288bd\",\"#3288bd\",\"#3288bd\",\"#3288bd\",\"#3288bd\",\"#3288bd\",\"#3288bd\",\"#3288bd\",\"#3288bd\",\"#3288bd\",\"#3288bd\",\"#3288bd\",\"#3288bd\",\"#3288bd\",\"#3288bd\",\"#3288bd\",\"#3288bd\",\"#3288bd\",\"#3288bd\",\"#3288bd\",\"#3288bd\",\"#3288bd\",\"#3288bd\",\"#3288bd\",\"#3288bd\",\"#3288bd\",\"#3288bd\",\"#3288bd\",\"#3288bd\",\"#3288bd\",\"#3288bd\",\"#3288bd\",\"#3288bd\",\"#3288bd\",\"#3288bd\",\"#3288bd\",\"#3288bd\",\"#3288bd\",\"#3288bd\",\"#3288bd\",\"#3288bd\",\"#3288bd\",\"#3288bd\",\"#3288bd\",\"#3288bd\",\"#3288bd\",\"#3288bd\",\"#3288bd\",\"#3288bd\",\"#3288bd\",\"#3288bd\",\"#3288bd\",\"#3288bd\",\"#3288bd\",\"#66c2a5\",\"#66c2a5\",\"#66c2a5\",\"#66c2a5\",\"#66c2a5\",\"#66c2a5\",\"#66c2a5\",\"#66c2a5\",\"#66c2a5\",\"#66c2a5\",\"#66c2a5\",\"#66c2a5\",\"#66c2a5\",\"#66c2a5\",\"#66c2a5\",\"#66c2a5\",\"#66c2a5\",\"#66c2a5\",\"#66c2a5\",\"#66c2a5\",\"#66c2a5\",\"#66c2a5\",\"#66c2a5\",\"#66c2a5\",\"#66c2a5\",\"#66c2a5\",\"#66c2a5\",\"#66c2a5\",\"#66c2a5\",\"#66c2a5\",\"#66c2a5\",\"#66c2a5\",\"#66c2a5\",\"#66c2a5\",\"#66c2a5\",\"#66c2a5\",\"#66c2a5\",\"#66c2a5\",\"#66c2a5\",\"#66c2a5\",\"#66c2a5\",\"#66c2a5\",\"#66c2a5\",\"#66c2a5\",\"#66c2a5\",\"#66c2a5\",\"#66c2a5\",\"#66c2a5\",\"#66c2a5\",\"#66c2a5\",\"#66c2a5\",\"#66c2a5\",\"#66c2a5\",\"#66c2a5\",\"#66c2a5\",\"#3288bd\",\"#3288bd\",\"#3288bd\",\"#3288bd\",\"#3288bd\",\"#3288bd\",\"#3288bd\",\"#3288bd\",\"#3288bd\",\"#3288bd\",\"#3288bd\",\"#3288bd\",\"#abdda4\",\"#3288bd\",\"#3288bd\",\"#3288bd\",\"#3288bd\",\"#3288bd\",\"#3288bd\",\"#3288bd\",\"#3288bd\",\"#abdda4\",\"#abdda4\",\"#abdda4\",\"#abdda4\",\"#abdda4\",\"#abdda4\",\"#abdda4\",\"#abdda4\",\"#abdda4\",\"#abdda4\",\"#abdda4\",\"#abdda4\",\"#abdda4\",\"#abdda4\",\"#abdda4\",\"#abdda4\",\"#abdda4\",\"#abdda4\",\"#abdda4\",\"#abdda4\",\"#abdda4\",\"#abdda4\",\"#e6f598\",\"#66c2a5\",\"#e6f598\",\"#e6f598\",\"#e6f598\",\"#e6f598\",\"#e6f598\",\"#e6f598\",\"#e6f598\",\"#3288bd\",\"#e6f598\",\"#e6f598\",\"#e6f598\",\"#e6f598\",\"#e6f598\",\"#e6f598\",\"#e6f598\",\"#e6f598\",\"#e6f598\",\"#e6f598\",\"#e6f598\",\"#e6f598\",\"#3288bd\",\"#66c2a5\",\"#e6f598\",\"#e6f598\",\"#e6f598\",\"#e6f598\",\"#e6f598\",\"#e6f598\",\"#e6f598\",\"#e6f598\",\"#e6f598\",\"#e6f598\",\"#e6f598\",\"#e6f598\",\"#e6f598\",\"#e6f598\",\"#e6f598\",\"#e6f598\",\"#e6f598\",\"#e6f598\",\"#e6f598\",\"#e6f598\",\"#e6f598\",\"#e6f598\",\"#e6f598\",\"#e6f598\",\"#66c2a5\",\"#66c2a5\",\"#66c2a5\",\"#66c2a5\",\"#66c2a5\",\"#66c2a5\",\"#66c2a5\",\"#66c2a5\",\"#e6f598\",\"#e6f598\",\"#e6f598\",\"#e6f598\",\"#e6f598\",\"#e6f598\",\"#e6f598\",\"#66c2a5\",\"#66c2a5\",\"#66c2a5\",\"#66c2a5\",\"#66c2a5\",\"#66c2a5\",\"#66c2a5\",\"#66c2a5\",\"#e6f598\",\"#66c2a5\",\"#66c2a5\",\"#66c2a5\",\"#66c2a5\",\"#66c2a5\",\"#66c2a5\",\"#66c2a5\",\"#e6f598\",\"#66c2a5\",\"#e6f598\",\"#e6f598\",\"#e6f598\",\"#e6f598\",\"#66c2a5\",\"#66c2a5\",\"#66c2a5\",\"#66c2a5\",\"#66c2a5\",\"#66c2a5\",\"#66c2a5\",\"#66c2a5\",\"#66c2a5\",\"#e6f598\",\"#e6f598\",\"#e6f598\",\"#66c2a5\",\"#e6f598\",\"#e6f598\",\"#e6f598\",\"#e6f598\",\"#e6f598\",\"#e6f598\",\"#e6f598\",\"#e6f598\",\"#e6f598\",\"#e6f598\",\"#e6f598\",\"#e6f598\",\"#e6f598\",\"#abdda4\",\"#abdda4\",\"#abdda4\",\"#abdda4\",\"#abdda4\",\"#abdda4\",\"#abdda4\",\"#abdda4\",\"#abdda4\",\"#abdda4\",\"#abdda4\",\"#abdda4\",\"#66c2a5\",\"#66c2a5\",\"#e6f598\",\"#66c2a5\",\"#e6f598\",\"#e6f598\",\"#e6f598\",\"#e6f598\",\"#e6f598\",\"#e6f598\",\"#e6f598\",\"#e6f598\",\"#e6f598\",\"#e6f598\",\"#e6f598\",\"#e6f598\",\"#e6f598\",\"#e6f598\",\"#e6f598\",\"#e6f598\",\"#e6f598\",\"#e6f598\",\"#e6f598\",\"#e6f598\",\"#e6f598\",\"#66c2a5\",\"#e6f598\",\"#e6f598\",\"#e6f598\",\"#e6f598\",\"#e6f598\",\"#e6f598\",\"#e6f598\",\"#e6f598\",\"#e6f598\",\"#e6f598\",\"#e6f598\",\"#e6f598\",\"#e6f598\",\"#e6f598\",\"#e6f598\",\"#e6f598\",\"#e6f598\",\"#66c2a5\",\"#66c2a5\",\"#66c2a5\",\"#66c2a5\",\"#66c2a5\",\"#66c2a5\",\"#66c2a5\",\"#66c2a5\",\"#66c2a5\",\"#66c2a5\",\"#66c2a5\",\"#66c2a5\",\"#66c2a5\",\"#66c2a5\",\"#66c2a5\",\"#66c2a5\",\"#66c2a5\",\"#66c2a5\",\"#66c2a5\",\"#66c2a5\",\"#66c2a5\",\"#66c2a5\",\"#66c2a5\",\"#66c2a5\",\"#66c2a5\",\"#66c2a5\",\"#e6f598\",\"#e6f598\",\"#e6f598\",\"#e6f598\",\"#e6f598\",\"#e6f598\",\"#66c2a5\",\"#66c2a5\",\"#66c2a5\",\"#e6f598\",\"#e6f598\",\"#e6f598\",\"#e6f598\",\"#e6f598\",\"#e6f598\",\"#e6f598\",\"#e6f598\",\"#66c2a5\",\"#66c2a5\",\"#66c2a5\",\"#66c2a5\",\"#66c2a5\",\"#66c2a5\",\"#66c2a5\",\"#66c2a5\",\"#66c2a5\",\"#66c2a5\",\"#66c2a5\",\"#66c2a5\",\"#66c2a5\",\"#66c2a5\",\"#66c2a5\",\"#66c2a5\",\"#66c2a5\",\"#66c2a5\",\"#66c2a5\",\"#66c2a5\",\"#66c2a5\",\"#66c2a5\",\"#66c2a5\",\"#66c2a5\",\"#66c2a5\",\"#66c2a5\",\"#66c2a5\",\"#66c2a5\",\"#66c2a5\",\"#66c2a5\",\"#e6f598\",\"#e6f598\",\"#e6f598\",\"#e6f598\",\"#e6f598\",\"#e6f598\",\"#e6f598\",\"#e6f598\",\"#abdda4\",\"#e6f598\",\"#66c2a5\",\"#66c2a5\",\"#66c2a5\",\"#66c2a5\",\"#66c2a5\",\"#66c2a5\",\"#66c2a5\",\"#66c2a5\",\"#66c2a5\",\"#66c2a5\",\"#66c2a5\",\"#66c2a5\",\"#66c2a5\",\"#66c2a5\",\"#66c2a5\",\"#ffffbf\",\"#66c2a5\",\"#66c2a5\",\"#66c2a5\",\"#66c2a5\",\"#66c2a5\",\"#e6f598\",\"#66c2a5\",\"#66c2a5\",\"#66c2a5\",\"#66c2a5\",\"#66c2a5\",\"#66c2a5\",\"#66c2a5\",\"#66c2a5\",\"#66c2a5\",\"#66c2a5\",\"#3288bd\",\"#66c2a5\",\"#3288bd\",\"#3288bd\",\"#3288bd\",\"#3288bd\",\"#3288bd\",\"#3288bd\",\"#3288bd\",\"#3288bd\",\"#3288bd\",\"#3288bd\",\"#ffffbf\",\"#3288bd\",\"#3288bd\",\"#3288bd\",\"#3288bd\",\"#3288bd\",\"#3288bd\",\"#3288bd\",\"#3288bd\",\"#3288bd\",\"#3288bd\",\"#3288bd\",\"#3288bd\",\"#3288bd\",\"#3288bd\",\"#3288bd\",\"#3288bd\",\"#3288bd\",\"#3288bd\",\"#3288bd\",\"#3288bd\",\"#3288bd\",\"#3288bd\",\"#3288bd\",\"#3288bd\",\"#3288bd\",\"#3288bd\",\"#3288bd\",\"#3288bd\",\"#3288bd\",\"#3288bd\",\"#3288bd\",\"#3288bd\",\"#3288bd\",\"#3288bd\",\"#3288bd\",\"#3288bd\",\"#3288bd\",\"#3288bd\",\"#3288bd\",\"#3288bd\",\"#3288bd\",\"#3288bd\",\"#3288bd\",\"#3288bd\",\"#3288bd\",\"#3288bd\",\"#3288bd\",\"#3288bd\",\"#3288bd\",\"#3288bd\",\"#3288bd\",\"#3288bd\",\"#3288bd\",\"#3288bd\",\"#3288bd\",\"#3288bd\",\"#3288bd\",\"#3288bd\",\"#3288bd\",\"#3288bd\",\"#3288bd\",\"#3288bd\",\"#3288bd\",\"#3288bd\",\"#3288bd\",\"#3288bd\",\"#3288bd\",\"#3288bd\",\"#3288bd\",\"#3288bd\",\"#3288bd\",\"#3288bd\",\"#3288bd\",\"#3288bd\",\"#3288bd\",\"#3288bd\",\"#3288bd\",\"#3288bd\",\"#3288bd\",\"#3288bd\",\"#3288bd\",\"#3288bd\",\"#3288bd\",\"#66c2a5\",\"#66c2a5\",\"#66c2a5\",\"#66c2a5\",\"#3288bd\",\"#66c2a5\",\"#66c2a5\",\"#66c2a5\",\"#66c2a5\",\"#66c2a5\",\"#66c2a5\",\"#66c2a5\",\"#66c2a5\",\"#66c2a5\",\"#66c2a5\",\"#66c2a5\",\"#3288bd\",\"#3288bd\",\"#e6f598\",\"#e6f598\",\"#e6f598\",\"#3288bd\",\"#e6f598\",\"#e6f598\",\"#e6f598\",\"#e6f598\",\"#e6f598\",\"#e6f598\",\"#3288bd\",\"#3288bd\",\"#3288bd\",\"#3288bd\",\"#3288bd\",\"#3288bd\",\"#3288bd\",\"#3288bd\",\"#3288bd\",\"#3288bd\",\"#3288bd\",\"#3288bd\",\"#3288bd\",\"#3288bd\",\"#3288bd\",\"#e6f598\",\"#3288bd\",\"#3288bd\",\"#3288bd\",\"#e6f598\",\"#e6f598\",\"#e6f598\",\"#e6f598\",\"#e6f598\",\"#e6f598\",\"#e6f598\",\"#e6f598\",\"#e6f598\",\"#e6f598\",\"#e6f598\",\"#e6f598\",\"#e6f598\",\"#e6f598\",\"#e6f598\",\"#e6f598\",\"#e6f598\",\"#e6f598\",\"#e6f598\",\"#abdda4\",\"#abdda4\",\"#abdda4\",\"#abdda4\",\"#abdda4\",\"#e6f598\",\"#e6f598\",\"#e6f598\",\"#e6f598\",\"#e6f598\",\"#abdda4\",\"#e6f598\",\"#e6f598\",\"#e6f598\",\"#abdda4\",\"#abdda4\",\"#abdda4\",\"#e6f598\",\"#abdda4\",\"#abdda4\",\"#abdda4\",\"#abdda4\",\"#abdda4\",\"#e6f598\",\"#abdda4\",\"#abdda4\",\"#e6f598\",\"#e6f598\",\"#e6f598\",\"#e6f598\",\"#e6f598\",\"#e6f598\",\"#e6f598\",\"#e6f598\",\"#e6f598\",\"#e6f598\",\"#abdda4\",\"#abdda4\",\"#abdda4\",\"#abdda4\",\"#abdda4\",\"#abdda4\",\"#abdda4\",\"#abdda4\",\"#abdda4\",\"#abdda4\",\"#abdda4\",\"#abdda4\",\"#abdda4\",\"#abdda4\",\"#abdda4\",\"#abdda4\",\"#abdda4\",\"#3288bd\",\"#66c2a5\",\"#66c2a5\",\"#66c2a5\",\"#66c2a5\",\"#66c2a5\",\"#66c2a5\",\"#66c2a5\",\"#66c2a5\",\"#66c2a5\",\"#66c2a5\",\"#66c2a5\",\"#66c2a5\",\"#66c2a5\",\"#66c2a5\",\"#66c2a5\",\"#66c2a5\",\"#66c2a5\",\"#66c2a5\",\"#66c2a5\",\"#66c2a5\",\"#66c2a5\",\"#66c2a5\",\"#66c2a5\",\"#66c2a5\",\"#3288bd\",\"#3288bd\",\"#3288bd\",\"#3288bd\",\"#3288bd\",\"#3288bd\",\"#3288bd\",\"#3288bd\",\"#3288bd\",\"#3288bd\",\"#3288bd\",\"#3288bd\",\"#3288bd\",\"#3288bd\",\"#3288bd\",\"#3288bd\",\"#3288bd\",\"#3288bd\",\"#abdda4\",\"#abdda4\",\"#abdda4\",\"#abdda4\",\"#abdda4\",\"#abdda4\",\"#abdda4\",\"#abdda4\",\"#abdda4\",\"#abdda4\",\"#abdda4\",\"#abdda4\",\"#abdda4\",\"#abdda4\",\"#abdda4\",\"#abdda4\",\"#abdda4\",\"#abdda4\",\"#abdda4\",\"#abdda4\",\"#abdda4\",\"#abdda4\",\"#abdda4\",\"#abdda4\",\"#abdda4\",\"#abdda4\",\"#abdda4\",\"#abdda4\",\"#abdda4\",\"#abdda4\",\"#abdda4\",\"#abdda4\",\"#abdda4\",\"#abdda4\",\"#abdda4\",\"#abdda4\",\"#abdda4\",\"#abdda4\",\"#abdda4\",\"#abdda4\",\"#abdda4\",\"#abdda4\",\"#abdda4\",\"#abdda4\",\"#abdda4\",\"#abdda4\",\"#abdda4\",\"#abdda4\",\"#abdda4\",\"#abdda4\",\"#abdda4\",\"#abdda4\",\"#abdda4\",\"#abdda4\",\"#abdda4\",\"#abdda4\",\"#abdda4\",\"#abdda4\",\"#abdda4\",\"#abdda4\",\"#abdda4\",\"#abdda4\",\"#abdda4\",\"#abdda4\",\"#abdda4\",\"#abdda4\",\"#abdda4\",\"#abdda4\",\"#abdda4\",\"#abdda4\",\"#abdda4\",\"#abdda4\",\"#abdda4\",\"#abdda4\",\"#abdda4\",\"#abdda4\",\"#abdda4\",\"#abdda4\",\"#abdda4\",\"#abdda4\",\"#abdda4\",\"#abdda4\",\"#abdda4\",\"#abdda4\",\"#abdda4\",\"#abdda4\",\"#abdda4\",\"#abdda4\",\"#abdda4\",\"#abdda4\",\"#abdda4\",\"#abdda4\",\"#abdda4\",\"#abdda4\",\"#abdda4\",\"#abdda4\",\"#abdda4\",\"#abdda4\",\"#abdda4\",\"#abdda4\",\"#abdda4\",\"#abdda4\",\"#abdda4\",\"#abdda4\",\"#abdda4\",\"#abdda4\",\"#abdda4\",\"#abdda4\",\"#abdda4\",\"#abdda4\",\"#abdda4\",\"#abdda4\",\"#abdda4\",\"#abdda4\",\"#abdda4\",\"#abdda4\",\"#abdda4\",\"#abdda4\",\"#abdda4\",\"#abdda4\",\"#abdda4\",\"#abdda4\",\"#abdda4\",\"#abdda4\",\"#abdda4\",\"#abdda4\",\"#abdda4\",\"#abdda4\",\"#abdda4\",\"#abdda4\",\"#abdda4\",\"#abdda4\",\"#abdda4\",\"#abdda4\",\"#abdda4\",\"#abdda4\",\"#abdda4\",\"#abdda4\",\"#abdda4\",\"#abdda4\",\"#abdda4\",\"#abdda4\",\"#abdda4\",\"#abdda4\",\"#abdda4\",\"#abdda4\",\"#abdda4\",\"#abdda4\",\"#abdda4\",\"#abdda4\",\"#abdda4\",\"#abdda4\",\"#abdda4\",\"#abdda4\",\"#abdda4\",\"#abdda4\",\"#abdda4\",\"#abdda4\",\"#abdda4\",\"#abdda4\",\"#abdda4\",\"#abdda4\",\"#abdda4\",\"#abdda4\",\"#abdda4\",\"#abdda4\",\"#abdda4\",\"#abdda4\",\"#abdda4\",\"#abdda4\",\"#abdda4\",\"#abdda4\",\"#abdda4\",\"#abdda4\",\"#abdda4\",\"#abdda4\",\"#abdda4\",\"#abdda4\",\"#abdda4\",\"#abdda4\",\"#abdda4\",\"#abdda4\",\"#abdda4\",\"#abdda4\",\"#abdda4\",\"#abdda4\",\"#abdda4\",\"#abdda4\",\"#abdda4\",\"#abdda4\",\"#abdda4\",\"#abdda4\",\"#abdda4\",\"#abdda4\",\"#abdda4\",\"#abdda4\",\"#abdda4\",\"#abdda4\",\"#abdda4\",\"#abdda4\",\"#abdda4\",\"#abdda4\",\"#abdda4\",\"#abdda4\",\"#abdda4\",\"#abdda4\",\"#abdda4\",\"#abdda4\",\"#abdda4\",\"#abdda4\",\"#abdda4\",\"#abdda4\",\"#abdda4\",\"#abdda4\",\"#abdda4\",\"#abdda4\",\"#abdda4\",\"#abdda4\",\"#abdda4\",\"#abdda4\",\"#abdda4\",\"#abdda4\",\"#abdda4\",\"#abdda4\",\"#abdda4\",\"#abdda4\",\"#abdda4\",\"#abdda4\",\"#abdda4\",\"#abdda4\",\"#abdda4\",\"#abdda4\",\"#abdda4\",\"#abdda4\",\"#abdda4\",\"#abdda4\",\"#abdda4\",\"#abdda4\",\"#abdda4\",\"#abdda4\",\"#abdda4\",\"#abdda4\",\"#abdda4\",\"#abdda4\",\"#abdda4\",\"#abdda4\",\"#abdda4\",\"#abdda4\",\"#abdda4\",\"#abdda4\",\"#abdda4\",\"#abdda4\",\"#abdda4\",\"#abdda4\",\"#abdda4\",\"#abdda4\",\"#abdda4\",\"#abdda4\",\"#abdda4\",\"#abdda4\",\"#abdda4\",\"#abdda4\",\"#abdda4\",\"#abdda4\",\"#abdda4\",\"#abdda4\",\"#abdda4\",\"#abdda4\",\"#abdda4\",\"#abdda4\",\"#abdda4\",\"#abdda4\",\"#abdda4\",\"#abdda4\",\"#abdda4\",\"#abdda4\",\"#abdda4\",\"#abdda4\",\"#abdda4\",\"#abdda4\",\"#abdda4\",\"#abdda4\",\"#abdda4\",\"#abdda4\",\"#abdda4\",\"#abdda4\",\"#abdda4\",\"#abdda4\",\"#abdda4\",\"#abdda4\",\"#abdda4\",\"#abdda4\",\"#abdda4\",\"#abdda4\",\"#abdda4\",\"#abdda4\",\"#abdda4\",\"#abdda4\",\"#abdda4\",\"#abdda4\",\"#abdda4\",\"#abdda4\",\"#abdda4\",\"#abdda4\",\"#abdda4\",\"#abdda4\",\"#abdda4\",\"#abdda4\",\"#abdda4\",\"#abdda4\",\"#abdda4\",\"#abdda4\",\"#abdda4\",\"#abdda4\",\"#abdda4\",\"#abdda4\",\"#abdda4\",\"#abdda4\",\"#abdda4\",\"#abdda4\",\"#abdda4\",\"#abdda4\",\"#abdda4\",\"#abdda4\",\"#abdda4\",\"#abdda4\",\"#abdda4\",\"#abdda4\",\"#abdda4\",\"#abdda4\",\"#abdda4\",\"#abdda4\",\"#abdda4\",\"#abdda4\",\"#abdda4\",\"#abdda4\",\"#abdda4\",\"#abdda4\",\"#abdda4\",\"#abdda4\",\"#abdda4\",\"#abdda4\",\"#abdda4\",\"#abdda4\",\"#abdda4\",\"#abdda4\",\"#abdda4\",\"#abdda4\",\"#abdda4\",\"#abdda4\",\"#abdda4\",\"#abdda4\",\"#abdda4\",\"#abdda4\",\"#abdda4\",\"#abdda4\",\"#abdda4\",\"#abdda4\",\"#abdda4\",\"#abdda4\",\"#abdda4\",\"#abdda4\",\"#abdda4\",\"#abdda4\",\"#abdda4\",\"#abdda4\",\"#abdda4\",\"#abdda4\",\"#abdda4\",\"#abdda4\",\"#abdda4\",\"#abdda4\",\"#abdda4\",\"#abdda4\",\"#abdda4\",\"#abdda4\",\"#abdda4\",\"#abdda4\",\"#abdda4\",\"#abdda4\",\"#abdda4\",\"#abdda4\",\"#abdda4\",\"#abdda4\",\"#abdda4\",\"#abdda4\",\"#abdda4\",\"#abdda4\",\"#abdda4\",\"#abdda4\",\"#abdda4\",\"#abdda4\",\"#abdda4\",\"#abdda4\",\"#abdda4\",\"#abdda4\",\"#abdda4\",\"#abdda4\",\"#abdda4\",\"#abdda4\",\"#abdda4\",\"#abdda4\",\"#abdda4\",\"#abdda4\",\"#abdda4\",\"#abdda4\",\"#abdda4\",\"#abdda4\",\"#abdda4\",\"#abdda4\",\"#abdda4\",\"#abdda4\",\"#abdda4\",\"#abdda4\",\"#abdda4\",\"#abdda4\",\"#abdda4\",\"#abdda4\",\"#abdda4\",\"#abdda4\",\"#abdda4\",\"#abdda4\",\"#abdda4\",\"#abdda4\",\"#abdda4\",\"#abdda4\",\"#abdda4\",\"#fee08b\",\"#abdda4\",\"#abdda4\",\"#abdda4\",\"#abdda4\",\"#abdda4\",\"#abdda4\",\"#abdda4\",\"#fdae61\",\"#fdae61\",\"#fdae61\",\"#fdae61\",\"#fdae61\",\"#fdae61\",\"#fdae61\",\"#3288bd\",\"#fee08b\",\"#fee08b\",\"#66c2a5\",\"#e6f598\",\"#66c2a5\",\"#66c2a5\",\"#f46d43\",\"#fee08b\",\"#ffffbf\",\"#fee08b\",\"#fee08b\",\"#fee08b\",\"#fee08b\",\"#fee08b\",\"#fee08b\",\"#fee08b\",\"#fee08b\",\"#fee08b\",\"#fee08b\",\"#fee08b\",\"#fee08b\",\"#fee08b\",\"#fee08b\",\"#fee08b\",\"#fee08b\",\"#fee08b\",\"#fee08b\",\"#fee08b\",\"#fee08b\",\"#fee08b\",\"#fee08b\",\"#fee08b\",\"#fee08b\",\"#fee08b\",\"#fee08b\",\"#fee08b\",\"#fee08b\",\"#f46d43\",\"#f46d43\",\"#f46d43\",\"#66c2a5\",\"#66c2a5\",\"#66c2a5\",\"#e6f598\",\"#66c2a5\",\"#d53e4f\",\"#d53e4f\",\"#d53e4f\",\"#d53e4f\",\"#d53e4f\",\"#d53e4f\",\"#d53e4f\",\"#d53e4f\",\"#d53e4f\",\"#d53e4f\",\"#e6f598\",\"#e6f598\",\"#e6f598\",\"#e6f598\",\"#e6f598\",\"#e6f598\",\"#e6f598\",\"#66c2a5\",\"#e6f598\",\"#66c2a5\",\"#e6f598\",\"#e6f598\",\"#e6f598\",\"#e6f598\",\"#fee08b\",\"#fee08b\",\"#fee08b\",\"#fee08b\",\"#fee08b\",\"#fee08b\",\"#fee08b\",\"#f46d43\",\"#f46d43\",\"#f46d43\",\"#f46d43\",\"#66c2a5\",\"#ffffbf\",\"#ffffbf\",\"#66c2a5\",\"#66c2a5\",\"#66c2a5\",\"#e6f598\",\"#66c2a5\",\"#66c2a5\",\"#ffffbf\",\"#ffffbf\",\"#ffffbf\",\"#ffffbf\",\"#d53e4f\",\"#e6f598\",\"#66c2a5\",\"#66c2a5\",\"#66c2a5\",\"#66c2a5\",\"#66c2a5\",\"#ffffbf\",\"#66c2a5\",\"#66c2a5\",\"#66c2a5\",\"#66c2a5\",\"#66c2a5\",\"#66c2a5\",\"#66c2a5\",\"#d53e4f\",\"#d53e4f\",\"#d53e4f\",\"#d53e4f\",\"#ffffbf\",\"#d53e4f\",\"#d53e4f\",\"#d53e4f\",\"#d53e4f\",\"#d53e4f\",\"#e6f598\",\"#d53e4f\",\"#d53e4f\",\"#d53e4f\",\"#d53e4f\",\"#d53e4f\",\"#ffffbf\",\"#ffffbf\",\"#ffffbf\",\"#ffffbf\",\"#66c2a5\",\"#66c2a5\",\"#66c2a5\",\"#66c2a5\",\"#e6f598\",\"#ffffbf\",\"#66c2a5\",\"#66c2a5\",\"#66c2a5\",\"#66c2a5\",\"#66c2a5\",\"#66c2a5\",\"#66c2a5\",\"#66c2a5\",\"#66c2a5\",\"#66c2a5\",\"#66c2a5\",\"#66c2a5\",\"#66c2a5\",\"#66c2a5\",\"#66c2a5\",\"#66c2a5\",\"#66c2a5\",\"#66c2a5\",\"#66c2a5\",\"#66c2a5\",\"#66c2a5\",\"#66c2a5\",\"#e6f598\",\"#66c2a5\",\"#66c2a5\",\"#66c2a5\",\"#66c2a5\",\"#66c2a5\",\"#66c2a5\",\"#66c2a5\",\"#66c2a5\",\"#66c2a5\",\"#66c2a5\",\"#66c2a5\",\"#66c2a5\",\"#66c2a5\",\"#66c2a5\",\"#66c2a5\",\"#66c2a5\",\"#66c2a5\",\"#66c2a5\",\"#66c2a5\",\"#66c2a5\",\"#66c2a5\",\"#66c2a5\",\"#66c2a5\",\"#d53e4f\",\"#66c2a5\",\"#d53e4f\",\"#d53e4f\",\"#d53e4f\",\"#e6f598\",\"#e6f598\",\"#66c2a5\",\"#d53e4f\",\"#e6f598\",\"#66c2a5\",\"#66c2a5\",\"#66c2a5\",\"#66c2a5\",\"#66c2a5\",\"#d53e4f\",\"#d53e4f\",\"#e6f598\",\"#e6f598\",\"#e6f598\",\"#e6f598\",\"#e6f598\",\"#66c2a5\",\"#66c2a5\",\"#66c2a5\",\"#66c2a5\",\"#66c2a5\",\"#66c2a5\",\"#66c2a5\",\"#66c2a5\",\"#66c2a5\",\"#66c2a5\",\"#66c2a5\",\"#66c2a5\",\"#66c2a5\",\"#66c2a5\",\"#66c2a5\",\"#e6f598\",\"#e6f598\",\"#e6f598\",\"#e6f598\",\"#e6f598\",\"#e6f598\",\"#e6f598\",\"#e6f598\",\"#e6f598\",\"#e6f598\",\"#66c2a5\",\"#66c2a5\",\"#e6f598\",\"#e6f598\",\"#e6f598\",\"#e6f598\",\"#e6f598\",\"#e6f598\",\"#e6f598\",\"#66c2a5\",\"#e6f598\",\"#e6f598\",\"#66c2a5\",\"#66c2a5\",\"#66c2a5\",\"#e6f598\",\"#66c2a5\",\"#66c2a5\",\"#66c2a5\",\"#66c2a5\",\"#66c2a5\",\"#66c2a5\",\"#e6f598\",\"#e6f598\",\"#e6f598\",\"#e6f598\",\"#fdae61\",\"#fdae61\",\"#fdae61\",\"#fdae61\",\"#fdae61\",\"#fdae61\",\"#fdae61\",\"#fdae61\",\"#fdae61\",\"#fdae61\",\"#fdae61\",\"#fdae61\",\"#fdae61\",\"#fdae61\",\"#fdae61\",\"#fdae61\",\"#fdae61\",\"#fdae61\",\"#fdae61\",\"#fdae61\",\"#fdae61\",\"#fdae61\",\"#fdae61\",\"#fdae61\",\"#fdae61\",\"#3288bd\",\"#3288bd\",\"#e6f598\",\"#e6f598\",\"#e6f598\",\"#e6f598\",\"#e6f598\",\"#e6f598\",\"#e6f598\",\"#e6f598\",\"#3288bd\",\"#66c2a5\",\"#66c2a5\",\"#3288bd\",\"#3288bd\",\"#3288bd\",\"#3288bd\",\"#3288bd\",\"#3288bd\",\"#3288bd\",\"#3288bd\",\"#3288bd\",\"#3288bd\",\"#3288bd\",\"#3288bd\",\"#3288bd\",\"#3288bd\",\"#3288bd\",\"#3288bd\",\"#3288bd\",\"#66c2a5\",\"#e6f598\",\"#e6f598\",\"#66c2a5\",\"#66c2a5\",\"#e6f598\",\"#e6f598\",\"#66c2a5\",\"#66c2a5\",\"#66c2a5\",\"#66c2a5\",\"#66c2a5\",\"#66c2a5\",\"#66c2a5\",\"#66c2a5\",\"#66c2a5\",\"#66c2a5\",\"#66c2a5\",\"#66c2a5\",\"#66c2a5\",\"#e6f598\",\"#e6f598\",\"#e6f598\",\"#e6f598\",\"#e6f598\",\"#e6f598\",\"#e6f598\",\"#e6f598\",\"#e6f598\",\"#e6f598\",\"#e6f598\",\"#e6f598\",\"#e6f598\",\"#e6f598\",\"#e6f598\",\"#3288bd\",\"#e6f598\",\"#e6f598\",\"#e6f598\",\"#66c2a5\",\"#3288bd\",\"#3288bd\",\"#3288bd\",\"#e6f598\",\"#abdda4\",\"#abdda4\",\"#abdda4\",\"#abdda4\",\"#abdda4\",\"#3288bd\",\"#3288bd\",\"#3288bd\",\"#3288bd\",\"#3288bd\",\"#3288bd\",\"#abdda4\",\"#abdda4\",\"#abdda4\",\"#e6f598\",\"#abdda4\",\"#abdda4\",\"#abdda4\",\"#abdda4\",\"#abdda4\",\"#abdda4\",\"#abdda4\",\"#abdda4\",\"#e6f598\",\"#e6f598\",\"#e6f598\",\"#e6f598\",\"#e6f598\",\"#e6f598\",\"#e6f598\",\"#e6f598\",\"#e6f598\",\"#e6f598\",\"#e6f598\",\"#e6f598\",\"#e6f598\",\"#e6f598\",\"#e6f598\",\"#e6f598\",\"#e6f598\",\"#e6f598\",\"#e6f598\",\"#e6f598\",\"#e6f598\",\"#e6f598\",\"#e6f598\",\"#3288bd\",\"#3288bd\",\"#3288bd\",\"#3288bd\",\"#3288bd\",\"#3288bd\",\"#3288bd\",\"#3288bd\",\"#3288bd\",\"#3288bd\",\"#3288bd\",\"#3288bd\",\"#3288bd\",\"#3288bd\",\"#3288bd\",\"#3288bd\",\"#3288bd\",\"#3288bd\",\"#3288bd\",\"#3288bd\",\"#3288bd\",\"#3288bd\",\"#3288bd\",\"#3288bd\",\"#3288bd\",\"#3288bd\",\"#abdda4\",\"#66c2a5\",\"#3288bd\"],\"line_color\":[\"#3288bd\",\"#66c2a5\",\"#abdda4\",\"#3288bd\",\"#e6f598\",\"#e6f598\",\"#e6f598\",\"#e6f598\",\"#e6f598\",\"#e6f598\",\"#e6f598\",\"#abdda4\",\"#3288bd\",\"#3288bd\",\"#abdda4\",\"#abdda4\",\"#abdda4\",\"#abdda4\",\"#abdda4\",\"#abdda4\",\"#abdda4\",\"#abdda4\",\"#abdda4\",\"#abdda4\",\"#abdda4\",\"#3288bd\",\"#3288bd\",\"#3288bd\",\"#3288bd\",\"#3288bd\",\"#3288bd\",\"#3288bd\",\"#3288bd\",\"#3288bd\",\"#3288bd\",\"#3288bd\",\"#abdda4\",\"#3288bd\",\"#abdda4\",\"#3288bd\",\"#3288bd\",\"#3288bd\",\"#3288bd\",\"#3288bd\",\"#3288bd\",\"#3288bd\",\"#3288bd\",\"#3288bd\",\"#3288bd\",\"#3288bd\",\"#3288bd\",\"#3288bd\",\"#3288bd\",\"#3288bd\",\"#3288bd\",\"#3288bd\",\"#3288bd\",\"#3288bd\",\"#3288bd\",\"#3288bd\",\"#3288bd\",\"#3288bd\",\"#3288bd\",\"#3288bd\",\"#3288bd\",\"#3288bd\",\"#3288bd\",\"#3288bd\",\"#3288bd\",\"#3288bd\",\"#3288bd\",\"#3288bd\",\"#3288bd\",\"#3288bd\",\"#3288bd\",\"#3288bd\",\"#3288bd\",\"#3288bd\",\"#3288bd\",\"#3288bd\",\"#3288bd\",\"#3288bd\",\"#3288bd\",\"#3288bd\",\"#3288bd\",\"#3288bd\",\"#3288bd\",\"#3288bd\",\"#3288bd\",\"#3288bd\",\"#3288bd\",\"#3288bd\",\"#3288bd\",\"#3288bd\",\"#3288bd\",\"#3288bd\",\"#3288bd\",\"#3288bd\",\"#3288bd\",\"#3288bd\",\"#3288bd\",\"#3288bd\",\"#3288bd\",\"#3288bd\",\"#3288bd\",\"#3288bd\",\"#3288bd\",\"#3288bd\",\"#3288bd\",\"#3288bd\",\"#3288bd\",\"#3288bd\",\"#3288bd\",\"#3288bd\",\"#3288bd\",\"#3288bd\",\"#3288bd\",\"#3288bd\",\"#3288bd\",\"#3288bd\",\"#3288bd\",\"#3288bd\",\"#3288bd\",\"#3288bd\",\"#3288bd\",\"#3288bd\",\"#3288bd\",\"#3288bd\",\"#3288bd\",\"#3288bd\",\"#3288bd\",\"#3288bd\",\"#3288bd\",\"#3288bd\",\"#3288bd\",\"#66c2a5\",\"#66c2a5\",\"#66c2a5\",\"#66c2a5\",\"#66c2a5\",\"#66c2a5\",\"#66c2a5\",\"#66c2a5\",\"#66c2a5\",\"#66c2a5\",\"#66c2a5\",\"#66c2a5\",\"#66c2a5\",\"#66c2a5\",\"#66c2a5\",\"#66c2a5\",\"#66c2a5\",\"#66c2a5\",\"#66c2a5\",\"#66c2a5\",\"#66c2a5\",\"#66c2a5\",\"#66c2a5\",\"#66c2a5\",\"#66c2a5\",\"#66c2a5\",\"#66c2a5\",\"#66c2a5\",\"#66c2a5\",\"#66c2a5\",\"#66c2a5\",\"#66c2a5\",\"#66c2a5\",\"#66c2a5\",\"#66c2a5\",\"#66c2a5\",\"#66c2a5\",\"#66c2a5\",\"#66c2a5\",\"#66c2a5\",\"#66c2a5\",\"#66c2a5\",\"#66c2a5\",\"#66c2a5\",\"#66c2a5\",\"#66c2a5\",\"#66c2a5\",\"#66c2a5\",\"#66c2a5\",\"#66c2a5\",\"#66c2a5\",\"#66c2a5\",\"#66c2a5\",\"#66c2a5\",\"#66c2a5\",\"#3288bd\",\"#3288bd\",\"#3288bd\",\"#3288bd\",\"#3288bd\",\"#3288bd\",\"#3288bd\",\"#3288bd\",\"#3288bd\",\"#3288bd\",\"#3288bd\",\"#3288bd\",\"#abdda4\",\"#3288bd\",\"#3288bd\",\"#3288bd\",\"#3288bd\",\"#3288bd\",\"#3288bd\",\"#3288bd\",\"#3288bd\",\"#abdda4\",\"#abdda4\",\"#abdda4\",\"#abdda4\",\"#abdda4\",\"#abdda4\",\"#abdda4\",\"#abdda4\",\"#abdda4\",\"#abdda4\",\"#abdda4\",\"#abdda4\",\"#abdda4\",\"#abdda4\",\"#abdda4\",\"#abdda4\",\"#abdda4\",\"#abdda4\",\"#abdda4\",\"#abdda4\",\"#abdda4\",\"#abdda4\",\"#e6f598\",\"#66c2a5\",\"#e6f598\",\"#e6f598\",\"#e6f598\",\"#e6f598\",\"#e6f598\",\"#e6f598\",\"#e6f598\",\"#3288bd\",\"#e6f598\",\"#e6f598\",\"#e6f598\",\"#e6f598\",\"#e6f598\",\"#e6f598\",\"#e6f598\",\"#e6f598\",\"#e6f598\",\"#e6f598\",\"#e6f598\",\"#e6f598\",\"#3288bd\",\"#66c2a5\",\"#e6f598\",\"#e6f598\",\"#e6f598\",\"#e6f598\",\"#e6f598\",\"#e6f598\",\"#e6f598\",\"#e6f598\",\"#e6f598\",\"#e6f598\",\"#e6f598\",\"#e6f598\",\"#e6f598\",\"#e6f598\",\"#e6f598\",\"#e6f598\",\"#e6f598\",\"#e6f598\",\"#e6f598\",\"#e6f598\",\"#e6f598\",\"#e6f598\",\"#e6f598\",\"#e6f598\",\"#66c2a5\",\"#66c2a5\",\"#66c2a5\",\"#66c2a5\",\"#66c2a5\",\"#66c2a5\",\"#66c2a5\",\"#66c2a5\",\"#e6f598\",\"#e6f598\",\"#e6f598\",\"#e6f598\",\"#e6f598\",\"#e6f598\",\"#e6f598\",\"#66c2a5\",\"#66c2a5\",\"#66c2a5\",\"#66c2a5\",\"#66c2a5\",\"#66c2a5\",\"#66c2a5\",\"#66c2a5\",\"#e6f598\",\"#66c2a5\",\"#66c2a5\",\"#66c2a5\",\"#66c2a5\",\"#66c2a5\",\"#66c2a5\",\"#66c2a5\",\"#e6f598\",\"#66c2a5\",\"#e6f598\",\"#e6f598\",\"#e6f598\",\"#e6f598\",\"#66c2a5\",\"#66c2a5\",\"#66c2a5\",\"#66c2a5\",\"#66c2a5\",\"#66c2a5\",\"#66c2a5\",\"#66c2a5\",\"#66c2a5\",\"#e6f598\",\"#e6f598\",\"#e6f598\",\"#66c2a5\",\"#e6f598\",\"#e6f598\",\"#e6f598\",\"#e6f598\",\"#e6f598\",\"#e6f598\",\"#e6f598\",\"#e6f598\",\"#e6f598\",\"#e6f598\",\"#e6f598\",\"#e6f598\",\"#e6f598\",\"#abdda4\",\"#abdda4\",\"#abdda4\",\"#abdda4\",\"#abdda4\",\"#abdda4\",\"#abdda4\",\"#abdda4\",\"#abdda4\",\"#abdda4\",\"#abdda4\",\"#abdda4\",\"#66c2a5\",\"#66c2a5\",\"#e6f598\",\"#66c2a5\",\"#e6f598\",\"#e6f598\",\"#e6f598\",\"#e6f598\",\"#e6f598\",\"#e6f598\",\"#e6f598\",\"#e6f598\",\"#e6f598\",\"#e6f598\",\"#e6f598\",\"#e6f598\",\"#e6f598\",\"#e6f598\",\"#e6f598\",\"#e6f598\",\"#e6f598\",\"#e6f598\",\"#e6f598\",\"#e6f598\",\"#e6f598\",\"#66c2a5\",\"#e6f598\",\"#e6f598\",\"#e6f598\",\"#e6f598\",\"#e6f598\",\"#e6f598\",\"#e6f598\",\"#e6f598\",\"#e6f598\",\"#e6f598\",\"#e6f598\",\"#e6f598\",\"#e6f598\",\"#e6f598\",\"#e6f598\",\"#e6f598\",\"#e6f598\",\"#66c2a5\",\"#66c2a5\",\"#66c2a5\",\"#66c2a5\",\"#66c2a5\",\"#66c2a5\",\"#66c2a5\",\"#66c2a5\",\"#66c2a5\",\"#66c2a5\",\"#66c2a5\",\"#66c2a5\",\"#66c2a5\",\"#66c2a5\",\"#66c2a5\",\"#66c2a5\",\"#66c2a5\",\"#66c2a5\",\"#66c2a5\",\"#66c2a5\",\"#66c2a5\",\"#66c2a5\",\"#66c2a5\",\"#66c2a5\",\"#66c2a5\",\"#66c2a5\",\"#e6f598\",\"#e6f598\",\"#e6f598\",\"#e6f598\",\"#e6f598\",\"#e6f598\",\"#66c2a5\",\"#66c2a5\",\"#66c2a5\",\"#e6f598\",\"#e6f598\",\"#e6f598\",\"#e6f598\",\"#e6f598\",\"#e6f598\",\"#e6f598\",\"#e6f598\",\"#66c2a5\",\"#66c2a5\",\"#66c2a5\",\"#66c2a5\",\"#66c2a5\",\"#66c2a5\",\"#66c2a5\",\"#66c2a5\",\"#66c2a5\",\"#66c2a5\",\"#66c2a5\",\"#66c2a5\",\"#66c2a5\",\"#66c2a5\",\"#66c2a5\",\"#66c2a5\",\"#66c2a5\",\"#66c2a5\",\"#66c2a5\",\"#66c2a5\",\"#66c2a5\",\"#66c2a5\",\"#66c2a5\",\"#66c2a5\",\"#66c2a5\",\"#66c2a5\",\"#66c2a5\",\"#66c2a5\",\"#66c2a5\",\"#66c2a5\",\"#e6f598\",\"#e6f598\",\"#e6f598\",\"#e6f598\",\"#e6f598\",\"#e6f598\",\"#e6f598\",\"#e6f598\",\"#abdda4\",\"#e6f598\",\"#66c2a5\",\"#66c2a5\",\"#66c2a5\",\"#66c2a5\",\"#66c2a5\",\"#66c2a5\",\"#66c2a5\",\"#66c2a5\",\"#66c2a5\",\"#66c2a5\",\"#66c2a5\",\"#66c2a5\",\"#66c2a5\",\"#66c2a5\",\"#66c2a5\",\"#ffffbf\",\"#66c2a5\",\"#66c2a5\",\"#66c2a5\",\"#66c2a5\",\"#66c2a5\",\"#e6f598\",\"#66c2a5\",\"#66c2a5\",\"#66c2a5\",\"#66c2a5\",\"#66c2a5\",\"#66c2a5\",\"#66c2a5\",\"#66c2a5\",\"#66c2a5\",\"#66c2a5\",\"#3288bd\",\"#66c2a5\",\"#3288bd\",\"#3288bd\",\"#3288bd\",\"#3288bd\",\"#3288bd\",\"#3288bd\",\"#3288bd\",\"#3288bd\",\"#3288bd\",\"#3288bd\",\"#ffffbf\",\"#3288bd\",\"#3288bd\",\"#3288bd\",\"#3288bd\",\"#3288bd\",\"#3288bd\",\"#3288bd\",\"#3288bd\",\"#3288bd\",\"#3288bd\",\"#3288bd\",\"#3288bd\",\"#3288bd\",\"#3288bd\",\"#3288bd\",\"#3288bd\",\"#3288bd\",\"#3288bd\",\"#3288bd\",\"#3288bd\",\"#3288bd\",\"#3288bd\",\"#3288bd\",\"#3288bd\",\"#3288bd\",\"#3288bd\",\"#3288bd\",\"#3288bd\",\"#3288bd\",\"#3288bd\",\"#3288bd\",\"#3288bd\",\"#3288bd\",\"#3288bd\",\"#3288bd\",\"#3288bd\",\"#3288bd\",\"#3288bd\",\"#3288bd\",\"#3288bd\",\"#3288bd\",\"#3288bd\",\"#3288bd\",\"#3288bd\",\"#3288bd\",\"#3288bd\",\"#3288bd\",\"#3288bd\",\"#3288bd\",\"#3288bd\",\"#3288bd\",\"#3288bd\",\"#3288bd\",\"#3288bd\",\"#3288bd\",\"#3288bd\",\"#3288bd\",\"#3288bd\",\"#3288bd\",\"#3288bd\",\"#3288bd\",\"#3288bd\",\"#3288bd\",\"#3288bd\",\"#3288bd\",\"#3288bd\",\"#3288bd\",\"#3288bd\",\"#3288bd\",\"#3288bd\",\"#3288bd\",\"#3288bd\",\"#3288bd\",\"#3288bd\",\"#3288bd\",\"#3288bd\",\"#3288bd\",\"#3288bd\",\"#3288bd\",\"#3288bd\",\"#3288bd\",\"#3288bd\",\"#3288bd\",\"#66c2a5\",\"#66c2a5\",\"#66c2a5\",\"#66c2a5\",\"#3288bd\",\"#66c2a5\",\"#66c2a5\",\"#66c2a5\",\"#66c2a5\",\"#66c2a5\",\"#66c2a5\",\"#66c2a5\",\"#66c2a5\",\"#66c2a5\",\"#66c2a5\",\"#66c2a5\",\"#3288bd\",\"#3288bd\",\"#e6f598\",\"#e6f598\",\"#e6f598\",\"#3288bd\",\"#e6f598\",\"#e6f598\",\"#e6f598\",\"#e6f598\",\"#e6f598\",\"#e6f598\",\"#3288bd\",\"#3288bd\",\"#3288bd\",\"#3288bd\",\"#3288bd\",\"#3288bd\",\"#3288bd\",\"#3288bd\",\"#3288bd\",\"#3288bd\",\"#3288bd\",\"#3288bd\",\"#3288bd\",\"#3288bd\",\"#3288bd\",\"#e6f598\",\"#3288bd\",\"#3288bd\",\"#3288bd\",\"#e6f598\",\"#e6f598\",\"#e6f598\",\"#e6f598\",\"#e6f598\",\"#e6f598\",\"#e6f598\",\"#e6f598\",\"#e6f598\",\"#e6f598\",\"#e6f598\",\"#e6f598\",\"#e6f598\",\"#e6f598\",\"#e6f598\",\"#e6f598\",\"#e6f598\",\"#e6f598\",\"#e6f598\",\"#abdda4\",\"#abdda4\",\"#abdda4\",\"#abdda4\",\"#abdda4\",\"#e6f598\",\"#e6f598\",\"#e6f598\",\"#e6f598\",\"#e6f598\",\"#abdda4\",\"#e6f598\",\"#e6f598\",\"#e6f598\",\"#abdda4\",\"#abdda4\",\"#abdda4\",\"#e6f598\",\"#abdda4\",\"#abdda4\",\"#abdda4\",\"#abdda4\",\"#abdda4\",\"#e6f598\",\"#abdda4\",\"#abdda4\",\"#e6f598\",\"#e6f598\",\"#e6f598\",\"#e6f598\",\"#e6f598\",\"#e6f598\",\"#e6f598\",\"#e6f598\",\"#e6f598\",\"#e6f598\",\"#abdda4\",\"#abdda4\",\"#abdda4\",\"#abdda4\",\"#abdda4\",\"#abdda4\",\"#abdda4\",\"#abdda4\",\"#abdda4\",\"#abdda4\",\"#abdda4\",\"#abdda4\",\"#abdda4\",\"#abdda4\",\"#abdda4\",\"#abdda4\",\"#abdda4\",\"#3288bd\",\"#66c2a5\",\"#66c2a5\",\"#66c2a5\",\"#66c2a5\",\"#66c2a5\",\"#66c2a5\",\"#66c2a5\",\"#66c2a5\",\"#66c2a5\",\"#66c2a5\",\"#66c2a5\",\"#66c2a5\",\"#66c2a5\",\"#66c2a5\",\"#66c2a5\",\"#66c2a5\",\"#66c2a5\",\"#66c2a5\",\"#66c2a5\",\"#66c2a5\",\"#66c2a5\",\"#66c2a5\",\"#66c2a5\",\"#66c2a5\",\"#3288bd\",\"#3288bd\",\"#3288bd\",\"#3288bd\",\"#3288bd\",\"#3288bd\",\"#3288bd\",\"#3288bd\",\"#3288bd\",\"#3288bd\",\"#3288bd\",\"#3288bd\",\"#3288bd\",\"#3288bd\",\"#3288bd\",\"#3288bd\",\"#3288bd\",\"#3288bd\",\"#abdda4\",\"#abdda4\",\"#abdda4\",\"#abdda4\",\"#abdda4\",\"#abdda4\",\"#abdda4\",\"#abdda4\",\"#abdda4\",\"#abdda4\",\"#abdda4\",\"#abdda4\",\"#abdda4\",\"#abdda4\",\"#abdda4\",\"#abdda4\",\"#abdda4\",\"#abdda4\",\"#abdda4\",\"#abdda4\",\"#abdda4\",\"#abdda4\",\"#abdda4\",\"#abdda4\",\"#abdda4\",\"#abdda4\",\"#abdda4\",\"#abdda4\",\"#abdda4\",\"#abdda4\",\"#abdda4\",\"#abdda4\",\"#abdda4\",\"#abdda4\",\"#abdda4\",\"#abdda4\",\"#abdda4\",\"#abdda4\",\"#abdda4\",\"#abdda4\",\"#abdda4\",\"#abdda4\",\"#abdda4\",\"#abdda4\",\"#abdda4\",\"#abdda4\",\"#abdda4\",\"#abdda4\",\"#abdda4\",\"#abdda4\",\"#abdda4\",\"#abdda4\",\"#abdda4\",\"#abdda4\",\"#abdda4\",\"#abdda4\",\"#abdda4\",\"#abdda4\",\"#abdda4\",\"#abdda4\",\"#abdda4\",\"#abdda4\",\"#abdda4\",\"#abdda4\",\"#abdda4\",\"#abdda4\",\"#abdda4\",\"#abdda4\",\"#abdda4\",\"#abdda4\",\"#abdda4\",\"#abdda4\",\"#abdda4\",\"#abdda4\",\"#abdda4\",\"#abdda4\",\"#abdda4\",\"#abdda4\",\"#abdda4\",\"#abdda4\",\"#abdda4\",\"#abdda4\",\"#abdda4\",\"#abdda4\",\"#abdda4\",\"#abdda4\",\"#abdda4\",\"#abdda4\",\"#abdda4\",\"#abdda4\",\"#abdda4\",\"#abdda4\",\"#abdda4\",\"#abdda4\",\"#abdda4\",\"#abdda4\",\"#abdda4\",\"#abdda4\",\"#abdda4\",\"#abdda4\",\"#abdda4\",\"#abdda4\",\"#abdda4\",\"#abdda4\",\"#abdda4\",\"#abdda4\",\"#abdda4\",\"#abdda4\",\"#abdda4\",\"#abdda4\",\"#abdda4\",\"#abdda4\",\"#abdda4\",\"#abdda4\",\"#abdda4\",\"#abdda4\",\"#abdda4\",\"#abdda4\",\"#abdda4\",\"#abdda4\",\"#abdda4\",\"#abdda4\",\"#abdda4\",\"#abdda4\",\"#abdda4\",\"#abdda4\",\"#abdda4\",\"#abdda4\",\"#abdda4\",\"#abdda4\",\"#abdda4\",\"#abdda4\",\"#abdda4\",\"#abdda4\",\"#abdda4\",\"#abdda4\",\"#abdda4\",\"#abdda4\",\"#abdda4\",\"#abdda4\",\"#abdda4\",\"#abdda4\",\"#abdda4\",\"#abdda4\",\"#abdda4\",\"#abdda4\",\"#abdda4\",\"#abdda4\",\"#abdda4\",\"#abdda4\",\"#abdda4\",\"#abdda4\",\"#abdda4\",\"#abdda4\",\"#abdda4\",\"#abdda4\",\"#abdda4\",\"#abdda4\",\"#abdda4\",\"#abdda4\",\"#abdda4\",\"#abdda4\",\"#abdda4\",\"#abdda4\",\"#abdda4\",\"#abdda4\",\"#abdda4\",\"#abdda4\",\"#abdda4\",\"#abdda4\",\"#abdda4\",\"#abdda4\",\"#abdda4\",\"#abdda4\",\"#abdda4\",\"#abdda4\",\"#abdda4\",\"#abdda4\",\"#abdda4\",\"#abdda4\",\"#abdda4\",\"#abdda4\",\"#abdda4\",\"#abdda4\",\"#abdda4\",\"#abdda4\",\"#abdda4\",\"#abdda4\",\"#abdda4\",\"#abdda4\",\"#abdda4\",\"#abdda4\",\"#abdda4\",\"#abdda4\",\"#abdda4\",\"#abdda4\",\"#abdda4\",\"#abdda4\",\"#abdda4\",\"#abdda4\",\"#abdda4\",\"#abdda4\",\"#abdda4\",\"#abdda4\",\"#abdda4\",\"#abdda4\",\"#abdda4\",\"#abdda4\",\"#abdda4\",\"#abdda4\",\"#abdda4\",\"#abdda4\",\"#abdda4\",\"#abdda4\",\"#abdda4\",\"#abdda4\",\"#abdda4\",\"#abdda4\",\"#abdda4\",\"#abdda4\",\"#abdda4\",\"#abdda4\",\"#abdda4\",\"#abdda4\",\"#abdda4\",\"#abdda4\",\"#abdda4\",\"#abdda4\",\"#abdda4\",\"#abdda4\",\"#abdda4\",\"#abdda4\",\"#abdda4\",\"#abdda4\",\"#abdda4\",\"#abdda4\",\"#abdda4\",\"#abdda4\",\"#abdda4\",\"#abdda4\",\"#abdda4\",\"#abdda4\",\"#abdda4\",\"#abdda4\",\"#abdda4\",\"#abdda4\",\"#abdda4\",\"#abdda4\",\"#abdda4\",\"#abdda4\",\"#abdda4\",\"#abdda4\",\"#abdda4\",\"#abdda4\",\"#abdda4\",\"#abdda4\",\"#abdda4\",\"#abdda4\",\"#abdda4\",\"#abdda4\",\"#abdda4\",\"#abdda4\",\"#abdda4\",\"#abdda4\",\"#abdda4\",\"#abdda4\",\"#abdda4\",\"#abdda4\",\"#abdda4\",\"#abdda4\",\"#abdda4\",\"#abdda4\",\"#abdda4\",\"#abdda4\",\"#abdda4\",\"#abdda4\",\"#abdda4\",\"#abdda4\",\"#abdda4\",\"#abdda4\",\"#abdda4\",\"#abdda4\",\"#abdda4\",\"#abdda4\",\"#abdda4\",\"#abdda4\",\"#abdda4\",\"#abdda4\",\"#abdda4\",\"#abdda4\",\"#abdda4\",\"#abdda4\",\"#abdda4\",\"#abdda4\",\"#abdda4\",\"#abdda4\",\"#abdda4\",\"#abdda4\",\"#abdda4\",\"#abdda4\",\"#abdda4\",\"#abdda4\",\"#abdda4\",\"#abdda4\",\"#abdda4\",\"#abdda4\",\"#abdda4\",\"#abdda4\",\"#abdda4\",\"#abdda4\",\"#abdda4\",\"#abdda4\",\"#abdda4\",\"#abdda4\",\"#abdda4\",\"#abdda4\",\"#abdda4\",\"#abdda4\",\"#abdda4\",\"#abdda4\",\"#abdda4\",\"#abdda4\",\"#abdda4\",\"#abdda4\",\"#abdda4\",\"#abdda4\",\"#abdda4\",\"#abdda4\",\"#abdda4\",\"#abdda4\",\"#abdda4\",\"#abdda4\",\"#abdda4\",\"#abdda4\",\"#abdda4\",\"#abdda4\",\"#abdda4\",\"#abdda4\",\"#abdda4\",\"#abdda4\",\"#abdda4\",\"#abdda4\",\"#abdda4\",\"#abdda4\",\"#abdda4\",\"#abdda4\",\"#abdda4\",\"#abdda4\",\"#abdda4\",\"#abdda4\",\"#abdda4\",\"#abdda4\",\"#abdda4\",\"#abdda4\",\"#abdda4\",\"#abdda4\",\"#abdda4\",\"#abdda4\",\"#abdda4\",\"#abdda4\",\"#abdda4\",\"#abdda4\",\"#abdda4\",\"#abdda4\",\"#abdda4\",\"#abdda4\",\"#abdda4\",\"#abdda4\",\"#abdda4\",\"#abdda4\",\"#abdda4\",\"#abdda4\",\"#abdda4\",\"#abdda4\",\"#abdda4\",\"#abdda4\",\"#abdda4\",\"#abdda4\",\"#abdda4\",\"#abdda4\",\"#abdda4\",\"#abdda4\",\"#abdda4\",\"#abdda4\",\"#abdda4\",\"#abdda4\",\"#abdda4\",\"#abdda4\",\"#abdda4\",\"#abdda4\",\"#abdda4\",\"#abdda4\",\"#abdda4\",\"#abdda4\",\"#abdda4\",\"#abdda4\",\"#abdda4\",\"#abdda4\",\"#abdda4\",\"#abdda4\",\"#abdda4\",\"#abdda4\",\"#abdda4\",\"#abdda4\",\"#abdda4\",\"#abdda4\",\"#abdda4\",\"#abdda4\",\"#abdda4\",\"#abdda4\",\"#abdda4\",\"#abdda4\",\"#abdda4\",\"#abdda4\",\"#abdda4\",\"#abdda4\",\"#abdda4\",\"#abdda4\",\"#abdda4\",\"#abdda4\",\"#abdda4\",\"#abdda4\",\"#abdda4\",\"#abdda4\",\"#abdda4\",\"#abdda4\",\"#abdda4\",\"#fee08b\",\"#abdda4\",\"#abdda4\",\"#abdda4\",\"#abdda4\",\"#abdda4\",\"#abdda4\",\"#abdda4\",\"#fdae61\",\"#fdae61\",\"#fdae61\",\"#fdae61\",\"#fdae61\",\"#fdae61\",\"#fdae61\",\"#3288bd\",\"#fee08b\",\"#fee08b\",\"#66c2a5\",\"#e6f598\",\"#66c2a5\",\"#66c2a5\",\"#f46d43\",\"#fee08b\",\"#ffffbf\",\"#fee08b\",\"#fee08b\",\"#fee08b\",\"#fee08b\",\"#fee08b\",\"#fee08b\",\"#fee08b\",\"#fee08b\",\"#fee08b\",\"#fee08b\",\"#fee08b\",\"#fee08b\",\"#fee08b\",\"#fee08b\",\"#fee08b\",\"#fee08b\",\"#fee08b\",\"#fee08b\",\"#fee08b\",\"#fee08b\",\"#fee08b\",\"#fee08b\",\"#fee08b\",\"#fee08b\",\"#fee08b\",\"#fee08b\",\"#fee08b\",\"#fee08b\",\"#f46d43\",\"#f46d43\",\"#f46d43\",\"#66c2a5\",\"#66c2a5\",\"#66c2a5\",\"#e6f598\",\"#66c2a5\",\"#d53e4f\",\"#d53e4f\",\"#d53e4f\",\"#d53e4f\",\"#d53e4f\",\"#d53e4f\",\"#d53e4f\",\"#d53e4f\",\"#d53e4f\",\"#d53e4f\",\"#e6f598\",\"#e6f598\",\"#e6f598\",\"#e6f598\",\"#e6f598\",\"#e6f598\",\"#e6f598\",\"#66c2a5\",\"#e6f598\",\"#66c2a5\",\"#e6f598\",\"#e6f598\",\"#e6f598\",\"#e6f598\",\"#fee08b\",\"#fee08b\",\"#fee08b\",\"#fee08b\",\"#fee08b\",\"#fee08b\",\"#fee08b\",\"#f46d43\",\"#f46d43\",\"#f46d43\",\"#f46d43\",\"#66c2a5\",\"#ffffbf\",\"#ffffbf\",\"#66c2a5\",\"#66c2a5\",\"#66c2a5\",\"#e6f598\",\"#66c2a5\",\"#66c2a5\",\"#ffffbf\",\"#ffffbf\",\"#ffffbf\",\"#ffffbf\",\"#d53e4f\",\"#e6f598\",\"#66c2a5\",\"#66c2a5\",\"#66c2a5\",\"#66c2a5\",\"#66c2a5\",\"#ffffbf\",\"#66c2a5\",\"#66c2a5\",\"#66c2a5\",\"#66c2a5\",\"#66c2a5\",\"#66c2a5\",\"#66c2a5\",\"#d53e4f\",\"#d53e4f\",\"#d53e4f\",\"#d53e4f\",\"#ffffbf\",\"#d53e4f\",\"#d53e4f\",\"#d53e4f\",\"#d53e4f\",\"#d53e4f\",\"#e6f598\",\"#d53e4f\",\"#d53e4f\",\"#d53e4f\",\"#d53e4f\",\"#d53e4f\",\"#ffffbf\",\"#ffffbf\",\"#ffffbf\",\"#ffffbf\",\"#66c2a5\",\"#66c2a5\",\"#66c2a5\",\"#66c2a5\",\"#e6f598\",\"#ffffbf\",\"#66c2a5\",\"#66c2a5\",\"#66c2a5\",\"#66c2a5\",\"#66c2a5\",\"#66c2a5\",\"#66c2a5\",\"#66c2a5\",\"#66c2a5\",\"#66c2a5\",\"#66c2a5\",\"#66c2a5\",\"#66c2a5\",\"#66c2a5\",\"#66c2a5\",\"#66c2a5\",\"#66c2a5\",\"#66c2a5\",\"#66c2a5\",\"#66c2a5\",\"#66c2a5\",\"#66c2a5\",\"#e6f598\",\"#66c2a5\",\"#66c2a5\",\"#66c2a5\",\"#66c2a5\",\"#66c2a5\",\"#66c2a5\",\"#66c2a5\",\"#66c2a5\",\"#66c2a5\",\"#66c2a5\",\"#66c2a5\",\"#66c2a5\",\"#66c2a5\",\"#66c2a5\",\"#66c2a5\",\"#66c2a5\",\"#66c2a5\",\"#66c2a5\",\"#66c2a5\",\"#66c2a5\",\"#66c2a5\",\"#66c2a5\",\"#66c2a5\",\"#d53e4f\",\"#66c2a5\",\"#d53e4f\",\"#d53e4f\",\"#d53e4f\",\"#e6f598\",\"#e6f598\",\"#66c2a5\",\"#d53e4f\",\"#e6f598\",\"#66c2a5\",\"#66c2a5\",\"#66c2a5\",\"#66c2a5\",\"#66c2a5\",\"#d53e4f\",\"#d53e4f\",\"#e6f598\",\"#e6f598\",\"#e6f598\",\"#e6f598\",\"#e6f598\",\"#66c2a5\",\"#66c2a5\",\"#66c2a5\",\"#66c2a5\",\"#66c2a5\",\"#66c2a5\",\"#66c2a5\",\"#66c2a5\",\"#66c2a5\",\"#66c2a5\",\"#66c2a5\",\"#66c2a5\",\"#66c2a5\",\"#66c2a5\",\"#66c2a5\",\"#e6f598\",\"#e6f598\",\"#e6f598\",\"#e6f598\",\"#e6f598\",\"#e6f598\",\"#e6f598\",\"#e6f598\",\"#e6f598\",\"#e6f598\",\"#66c2a5\",\"#66c2a5\",\"#e6f598\",\"#e6f598\",\"#e6f598\",\"#e6f598\",\"#e6f598\",\"#e6f598\",\"#e6f598\",\"#66c2a5\",\"#e6f598\",\"#e6f598\",\"#66c2a5\",\"#66c2a5\",\"#66c2a5\",\"#e6f598\",\"#66c2a5\",\"#66c2a5\",\"#66c2a5\",\"#66c2a5\",\"#66c2a5\",\"#66c2a5\",\"#e6f598\",\"#e6f598\",\"#e6f598\",\"#e6f598\",\"#fdae61\",\"#fdae61\",\"#fdae61\",\"#fdae61\",\"#fdae61\",\"#fdae61\",\"#fdae61\",\"#fdae61\",\"#fdae61\",\"#fdae61\",\"#fdae61\",\"#fdae61\",\"#fdae61\",\"#fdae61\",\"#fdae61\",\"#fdae61\",\"#fdae61\",\"#fdae61\",\"#fdae61\",\"#fdae61\",\"#fdae61\",\"#fdae61\",\"#fdae61\",\"#fdae61\",\"#fdae61\",\"#3288bd\",\"#3288bd\",\"#e6f598\",\"#e6f598\",\"#e6f598\",\"#e6f598\",\"#e6f598\",\"#e6f598\",\"#e6f598\",\"#e6f598\",\"#3288bd\",\"#66c2a5\",\"#66c2a5\",\"#3288bd\",\"#3288bd\",\"#3288bd\",\"#3288bd\",\"#3288bd\",\"#3288bd\",\"#3288bd\",\"#3288bd\",\"#3288bd\",\"#3288bd\",\"#3288bd\",\"#3288bd\",\"#3288bd\",\"#3288bd\",\"#3288bd\",\"#3288bd\",\"#3288bd\",\"#66c2a5\",\"#e6f598\",\"#e6f598\",\"#66c2a5\",\"#66c2a5\",\"#e6f598\",\"#e6f598\",\"#66c2a5\",\"#66c2a5\",\"#66c2a5\",\"#66c2a5\",\"#66c2a5\",\"#66c2a5\",\"#66c2a5\",\"#66c2a5\",\"#66c2a5\",\"#66c2a5\",\"#66c2a5\",\"#66c2a5\",\"#66c2a5\",\"#e6f598\",\"#e6f598\",\"#e6f598\",\"#e6f598\",\"#e6f598\",\"#e6f598\",\"#e6f598\",\"#e6f598\",\"#e6f598\",\"#e6f598\",\"#e6f598\",\"#e6f598\",\"#e6f598\",\"#e6f598\",\"#e6f598\",\"#3288bd\",\"#e6f598\",\"#e6f598\",\"#e6f598\",\"#66c2a5\",\"#3288bd\",\"#3288bd\",\"#3288bd\",\"#e6f598\",\"#abdda4\",\"#abdda4\",\"#abdda4\",\"#abdda4\",\"#abdda4\",\"#3288bd\",\"#3288bd\",\"#3288bd\",\"#3288bd\",\"#3288bd\",\"#3288bd\",\"#abdda4\",\"#abdda4\",\"#abdda4\",\"#e6f598\",\"#abdda4\",\"#abdda4\",\"#abdda4\",\"#abdda4\",\"#abdda4\",\"#abdda4\",\"#abdda4\",\"#abdda4\",\"#e6f598\",\"#e6f598\",\"#e6f598\",\"#e6f598\",\"#e6f598\",\"#e6f598\",\"#e6f598\",\"#e6f598\",\"#e6f598\",\"#e6f598\",\"#e6f598\",\"#e6f598\",\"#e6f598\",\"#e6f598\",\"#e6f598\",\"#e6f598\",\"#e6f598\",\"#e6f598\",\"#e6f598\",\"#e6f598\",\"#e6f598\",\"#e6f598\",\"#e6f598\",\"#3288bd\",\"#3288bd\",\"#3288bd\",\"#3288bd\",\"#3288bd\",\"#3288bd\",\"#3288bd\",\"#3288bd\",\"#3288bd\",\"#3288bd\",\"#3288bd\",\"#3288bd\",\"#3288bd\",\"#3288bd\",\"#3288bd\",\"#3288bd\",\"#3288bd\",\"#3288bd\",\"#3288bd\",\"#3288bd\",\"#3288bd\",\"#3288bd\",\"#3288bd\",\"#3288bd\",\"#3288bd\",\"#3288bd\",\"#abdda4\",\"#66c2a5\",\"#3288bd\"],\"x\":[-12.118790351659506,5.279321105990892,-8.516283189398749,-8.785254921715067,9.38544657836819,18.342675060093782,20.031308778723655,20.938079406700012,13.331359045187218,19.983508621550385,18.33302560247237,-13.626953761957159,11.446740846936446,-5.9800693451623745,-13.600339462144106,-13.633227996762178,14.151487303542904,-14.143392000515025,23.558059756590012,14.361930892347964,-12.894650451257064,-12.492911050985015,-14.425643911143506,-16.37064411023989,-18.78311526128201,15.267883243075964,-1.1733381488723962,-8.23087968925537,-4.68994492645969,2.6210778196387032,6.120490473944976,2.4891204167338215,11.108574028594266,8.803178926812702,-7.429323205723018,-4.645014868035286,-4.035171888090777,14.018458485345828,-10.972878783717311,19.069209527260636,11.535746084058607,2.5955000731027456,-4.489763763768515,-2.9683526782432033,20.67461531942039,14.689138083699573,19.469640850014187,2.556408635863503,-3.784566715522158,-3.236433706682416,6.048703218487679,7.6394016086545715,8.19262227703766,9.324815463984455,2.145410770762501,11.985333234832241,7.117719470729337,10.960506789030049,-5.518633308430096,12.052450178243651,-0.8730628867542959,13.193215734685703,5.939005016094358,0.9672698513804849,16.49006736882874,-3.720767504285076,5.525936435634326,7.945163722548907,10.98103099345494,12.24076434057076,13.349450929072274,-1.7373304987941336,-9.173378784173932,-1.8400872770065515,11.617550610741418,11.732650603283133,7.196602317311776,0.8442213164288395,10.285938039223657,-3.0203561099416865,7.350608650170476,3.186558130233884,2.519037711665049,17.498952648421277,13.886377320346467,-10.963544998799764,18.757780479006446,-1.142432983661584,-17.40057569276155,-22.59935041806658,-3.799810139437769,7.5585662933518005,9.284665953809117,-11.009922423942086,7.382860234327865,2.3814841580655686,-4.30255874627268,-13.093608185131494,-13.126964859484652,-12.979997983454014,6.104563958492762,8.295612196752012,-1.0005888408132633,5.104625088649763,1.1613742421413509,-22.631906632490544,4.180875155278194,8.050754845920704,7.945762340840406,-16.13625748761428,9.968189754196846,-11.676724447118252,19.64459720466767,4.920160824252407,11.273618960665148,-15.860071243312357,20.071257300062026,5.971922513081061,1.9610619400791491,12.5352268428409,-18.075246696907126,4.63266201009353,8.146112285493542,7.475219551798825,14.508022354840932,9.668249859736461,4.644623342305373,-1.6566447158390842,6.488988915726134,14.194418976298786,10.370181462711095,-11.630942224715563,-2.2319250339349903,15.735416573685018,-15.267839899078092,-6.84638498423853,15.2922039473449,-2.976707929601579,-5.605791901486291,-0.30056712952744075,14.279030840120022,25.58815131115302,16.893587627907824,-4.933907310089709,0.8428374459567874,-5.7475500023528925,-7.300047063459089,6.562487512151167,22.131583094864194,-7.070669862263597,-0.06190616807284867,-17.642970449358646,19.609556522897638,-12.690812070032598,11.642295610446666,23.464317592486548,19.054004213327534,14.915182375314622,-8.857004822905905,-8.837098905754067,-2.1641963490915384,-3.432064640255118,-1.6679563584033301,-9.218663885172196,14.654683439205856,-5.536065291448812,19.785491990369362,-1.967691745646671,17.806040554991878,-12.244629622279751,3.6253823726686574,11.334646734214552,21.600980600513353,5.359657618654354,5.4296405077580285,-6.1666456570222055,19.31624196904079,14.71852522208805,-6.760921737419719,19.727453414159488,9.841115275044865,9.972457304914188,-10.630694599836055,11.290684998340325,16.310031822965264,9.456789789806725,-5.439364005682897,10.24128948957514,-9.98172869028659,13.849941897784475,-12.673279736517003,-4.880784656349829,-8.022618843096485,-8.183682483314037,-7.008124235615155,-6.736164001459882,-5.199459590871443,5.409440396218534,-6.7925515677277,18.297359733878963,-8.38720730666364,-10.768565464678879,-11.9140172801904,-12.245793377711259,-8.831619757832764,-7.455458478388173,-12.671422955714897,11.6785738289819,-13.8369025417336,-4.899274218420808,-3.6991016110303847,-8.370554901928415,5.2133947573619475,-4.059127237630626,-6.938400993409465,14.296381405525237,-0.24667913281918585,-12.792446940587773,7.215249334170495,-4.8285629949830335,-8.023493254463553,-7.991325962054587,-3.824905149964701,14.202397296483733,-8.707424430697927,-8.542366249426426,-2.8211458682740815,-9.235913113860207,-0.5120079413164726,-16.07423845762256,-4.16644186345507,-1.6891968758701743,22.382982591705556,-10.7131299923427,-21.33214832462234,9.776667831911624,-1.1428959537293328,1.9748925435239664,-5.135956790709212,-1.8726883198538293,-15.33623223803176,-9.456456380270737,-4.454529528586542,-8.270292430070748,-16.56219372578915,9.350070775841587,-9.398492239438495,-17.559893843376358,-18.261155503738117,10.859677295049686,-5.508903326384473,-6.397665161323872,8.436269581703149,-9.520536347661617,-19.30751735968563,-5.837799798880425,5.1434311742547925,9.592676453370547,-17.613720351802957,13.638465943292042,-16.140356568906444,6.094516546571349,8.045690816477036,19.88488746061484,21.1318744430613,-13.388035263164237,-8.087948578536638,-17.6860310165024,-17.942471943496706,-12.79285816694896,-16.023955698621908,-12.727211780663605,-13.683807200531815,-9.757017887368843,10.857660291559874,14.518355386138424,21.70911662955343,4.372869036767011,23.63381853387626,-2.3318859275149606,-10.913008020644385,-16.358295628876366,-16.1333089426,2.181602821333224,1.4034006840004514,2.241285846769884,18.37341296219709,0.4121576973509358,2.6665625814008522,6.965574386092605,7.738044257449508,21.86014696500154,11.67243132649835,4.500328763106117,5.0320925444096805,21.410778219117404,-18.073233471293943,1.8949396145113757,-19.321533434158727,1.743274206910686,-19.18416288610663,17.33689118608037,20.813628521678744,-1.48681314210774,-2.526259379488013,21.89282102409821,17.113746073761796,-10.535529699847851,16.722700987999435,21.648170070216647,18.215013832416627,-0.01867234802824809,-3.1584760529092284,19.444283746672195,9.811210699973394,7.813459433484414,10.282684044279913,6.266796461098449,-12.13139409933186,5.2160370899447965,14.198817190948693,6.6426583337768506,-0.04331202592377131,3.074732052301393,-6.070205133610104,4.996249021196443,5.478452001012384,-19.498373004491025,-19.503328326345493,-5.076217103605694,-3.860643401809608,-10.725069927363968,-10.833158454773798,-10.937154016268513,-20.476366171008703,-17.848277707422458,-8.537007429816153,-20.592246493794203,-20.044908216237264,-12.328561485931159,-15.28674093038591,13.943787876196563,-1.1909435154457866,8.544714689966861,-7.776691283012565,9.784435986187674,-9.890873270859506,7.765936930273263,19.669462879052432,-7.772048884501298,7.8807422028083165,12.20768856317238,1.3884982601858282,6.6182012759546085,-10.726086534608557,2.5931390915432866,-0.6329662105155569,3.0170207745152267,-19.793095903962847,21.803546563723927,-15.208651821568548,-17.13981878410561,-14.46816396997577,-15.452054213114764,-14.771808177893458,-14.078100298219546,-16.77444226727179,-15.424307901024843,-14.2487029291349,-16.929287142591726,12.095831861558995,-20.541200098019676,-20.628147710663285,-20.153069760077067,-15.546733487569814,-18.775946918343703,-19.360426664908687,-19.43745153869164,-17.153281994114415,-17.701618136134826,10.150622912689515,6.109948495451297,-18.209455191576936,-13.009477313324508,-14.89145714682681,-15.594499724323587,-15.406425576455488,10.287823092212935,-1.1131118376150657,-13.729755495561742,-15.979042717545529,-16.033952265773888,-10.874470437877479,-17.560423822281336,-16.33046115979094,19.978321247321993,-14.706149213905958,-16.565335412417635,12.089320156888165,1.8366899879939431,1.9783764016916785,1.833174577358817,2.700552736359282,6.272815992808837,1.7310848619373447,2.781142948964323,2.892086194347726,-5.336942642391044,20.416967916221243,-3.526214944929824,14.494422081560996,21.519547476544467,17.511130288708394,-0.8987481216604711,-2.2592447686641393,2.5397950239656346,10.03681308337626,1.6782656387749393,12.772775622325451,4.932112158970202,11.376962962339709,0.0776546852585227,12.923245131252136,2.3565807754006562,13.057032763804584,12.978022768961265,-1.1170786112495552,-2.4463001817811696,-0.2940173504942171,1.239876816838136,-7.919433331095368,19.73306513872036,-2.5825533573425066,-5.080455551468671,-1.1115580715522244,1.0037686989248418,-2.352539350390567,0.6374037070065902,1.5900557783866347,-9.61774858286013,14.928093931414713,-6.344021669474157,20.915996269412325,21.81274078430839,19.01467845409693,8.159451787072895,15.395534341950182,-8.009024886768845,16.68035518856664,14.876723394567755,14.122375595628302,16.333687279218,4.298387601433397,1.4768528197567545,8.201115138077144,21.813169022384482,16.262257512525473,-9.505383524857601,21.062368750154338,0.9824838747494151,1.7262573699883856,-9.431746167403945,16.317942621513126,22.478692933913123,13.327601046833905,2.7144556238899624,18.952395444479087,8.25644315830097,23.73705222713684,8.141747856811696,-1.8858971863860807,16.367101668140293,8.383315053595167,0.34525271193285545,0.27094822841857347,2.0939629900029604,6.489178223416782,7.880752739783131,0.101910077415795,10.417261143108282,0.4906747640824913,7.967977108438559,21.487977546581128,-4.9846986004584295,-8.046389436564578,21.634895935076077,3.6106641669048978,18.413332687943598,-6.150078443137111,-5.052210532299827,-8.934149938748488,1.0459668625475835,18.477117222090946,-4.858179847837421,5.870625585307998,1.798791020278972,11.942417972651644,0.9283245152059203,11.689393408106923,20.55318308386514,14.503294316654038,13.728114332494416,2.5986043968387067,1.4346660705859633,-8.652582934844919,5.425379898519032,13.147946461068658,17.665887561558485,4.228503377881072,15.7226876545929,2.8009716282455974,5.629119567865202,-4.105291600996546,14.575633410498519,3.893618662412278,19.668550930225134,7.234742003050346,-7.1706464017185825,-5.216652289723034,4.612335947857514,15.74990415181679,-0.6906428448378291,16.84268382486061,2.067299592108306,-3.141227560190723,-8.565561908944494,-3.1508932133195566,-16.173860608851825,6.631891202294608,-6.793537431517516,-10.968123557909644,15.437986606713158,-4.341818575220599,15.007987009315006,-4.866856567127724,8.270686798150306,-8.10793388577395,-2.2522253087214206,-1.2449910517221567,-8.832642149669658,4.429338452038139,-8.228219175085714,-11.101212475801113,-12.440614729076918,-2.908412095407991,-5.926329966391354,-13.271087946787903,-9.01167913452779,-11.782878269593262,-9.562540457336437,-1.4371559245957521,-13.53339180803601,-13.774350492138895,-11.520413823718574,-5.080861219226794,-0.7972663109491631,-2.4383217750482262,-4.251718396989018,-1.089294873394456,2.8215432449173274,-6.000478070545416,-6.972855559048997,14.095031557051792,-6.6279084115687406,-3.6455425797773366,14.702433752748421,3.7433478462948155,-3.1080310314211776,5.371094580212266,-0.8466776265175318,4.303912285547995,8.079497120366476,2.121408886124042,14.020239800970087,-9.247090958062248,12.79747843358325,-14.938833134386458,-4.904374183248093,-15.883235752780855,-2.2592579427789796,8.243040676218543,-7.042340431977525,14.74081948232448,11.335588292710899,3.577774393550707,7.833993894145424,-4.858757705681343,-5.687264585774051,-11.250338653436701,14.588518778208407,2.47509886065384,-0.02723293272099217,-8.066245007155018,-9.542391679240271,-6.204421232508135,-8.676125551205143,-7.842194908951318,-0.7921489204765615,-3.2237303109468947,5.189790602235654,-5.8829370711020355,-16.87072932245538,0.06344292906510518,-2.67231067836831,-2.0257154054822837,2.949325057427861,-3.1337166409808854,-5.96632325168391,-4.664955149926241,-2.441417026499643,17.951354274069086,3.3237389654482463,4.1227249729128355,2.3919066554501995,-9.182948068689498,3.878972677015972,3.019088534395096,3.9793567102834495,2.755199587294094,4.117184435423018,16.29027405115023,-3.7435408473261407,18.4256002411175,20.005390362022933,-1.4052455519581784,18.23193808034124,18.324294267807506,-2.9739849083677483,-18.319004041472866,-11.48810628982353,-12.96813516471453,-8.745554356744329,6.463613036388959,-10.863130408695936,9.251654624300254,17.468004273934977,9.445256561042616,-9.969979116852581,-4.825433179609675,12.26097362035479,-13.67711377454273,15.326575060586453,15.642513810449893,-12.59958095155853,-6.061074604322853,-8.796471444941798,-0.8958567466791416,-5.110408791649902,-2.4581566073072922,-5.0791623366409535,-3.719081407646097,-4.824724275062892,-5.379147534690321,-14.787061524113339,-1.0869077585113716,-8.794269708450933,18.412374627875288,-13.879237487448194,-7.064679656987094,-17.76909030657325,-13.487497973807773,-16.501544492895295,-20.079237027233088,-20.09819620929053,19.0864326496937,-20.07717246022221,-14.371170295718024,-17.865165316174203,4.107015390257187,-15.167652600735064,-17.827827797366616,-20.554645992878203,-20.650807022299162,-20.539144701249757,-19.343501380610864,-15.072312232177373,-12.602157910329822,3.06169504633992,-14.960698493426682,1.1987821342443548,-14.023663707850805,-16.616250147535304,9.370547483149691,4.955497479826585,-18.144451124718216,-16.546973952026946,-11.559787606175659,13.149282495364858,1.0321131333302174,-17.79285235381581,11.804924044960561,17.009169847039004,-4.288589969661359,-15.554661685667611,-18.685866665831462,-5.499457660827644,-15.729680739404191,-19.417481359323194,3.6551861231043405,-16.926290791217827,-19.893943568714022,-18.731032608102076,-1.0002569240197037,-14.151585850266784,-15.36915186288114,-15.275909884747414,-16.900649360301895,4.826029726475944,-12.071370246659647,6.1667720870272715,-8.072672527726853,-17.937281786960384,-5.457732341417315,15.265115704515198,-18.754370885324224,16.923593754625564,15.371785810995194,-1.2786983834984609,-8.557444015421446,-3.724123122871167,-18.733492511635525,14.97343859892516,-1.6221393517730334,9.432152345929468,15.468814470167226,6.104854848395904,9.301130818856612,-5.086603653449765,-4.810482506305807,-9.376978668393658,12.790251139230142,11.626812247638256,18.972650993030854,19.818600318635543,8.686278681622989,8.888210464357513,7.631243027575995,9.832801325597021,21.833365955752367,11.656464479338123,3.128400092764767,9.458698096347337,3.5614668595318797,13.91741466947631,10.361335392926382,16.326902673914255,-15.230724769884377,8.438101755792308,-5.320975900396667,-12.37348694912168,-3.3513630438614554,19.001761444892566,0.40797604598528314,-2.739407644908688,4.722124164677883,2.273789656645073,-8.725301490415967,-10.015275563778216,3.1250379017834735,10.562488258475316,3.1150618944604296,8.356867603125675,-6.507885676607062,10.59583685365636,4.498782736382859,-11.08856182786833,-9.156526372657487,-11.283331702528447,-12.332408912428159,-10.393052790226688,10.385385999539654,7.586972602058604,0.503433129933279,10.191199834720548,-14.450859238728283,-8.929921267276866,-3.2482660194708535,-10.765524389561836,-14.991012251906966,5.908338432290844,1.4425201441706574,-1.325536398206213,18.215638362018623,-5.040727007251177,6.159785186833601,-16.26578417837248,25.45932751750858,14.039690860939272,8.714826481686519,-11.501578648756507,12.917284250813278,7.099844648610972,18.65921854006233,6.63290972866637,15.150605941236899,-7.337712310930116,1.716538649177699,-5.283868994954042,-17.27004356771688,-12.31307061815828,20.78563718287109,9.488441967037257,18.62608760425871,25.171385499634162,10.83585969834064,-8.100735405725182,-2.723729137548721,-1.108783058226871,-5.029640775351263,-8.419259438231139,-1.073275169980287,-2.1966953564726737,-0.9952178938945359,-12.291749688092247,-3.496300050298667,-6.215879024904201,4.84583499346114,18.76903027618351,8.794529541743481,16.19036578389376,-1.6889562136675078,2.9992452797800384,11.337820966454727,0.2099210292109307,-5.028862296340503,0.9088171064318715,4.552884231088974,1.674319546443131,8.18499240405997,-2.893095116184396,-12.899239663933196,11.015189747886815,-4.790226573525459,-5.097815947309661,-7.323470176360853,17.70523979369475,-7.386735547388,-5.089721075460516,10.830490587635495,-9.83114241773113,-3.3840024118096066,-6.383035540246897,0.6414312701101783,0.3813335485663041,15.509567005340212,-4.1045161233209795,1.2492161423931005,13.306866380372101,10.201040733859033,-10.146860912195228,-1.3440703889897976,16.08896752957603,-0.6955415987733164,-18.93592816031876,2.582208290159437,-1.986562841905547,9.741176515702131,13.139370289507502,-4.050211808292719,-1.5616346820455687,-16.73868774480926,14.016327522738145,-3.5366427607514814,5.538118262893246,-8.094287637505381,-1.230662286572993,11.708936936741253,20.58663165095832,4.777777596300013,-4.493343398955951,-13.135856597003174,-13.735630705150227,8.576409763856931,6.475576424902441,-1.6020839029658938,8.815189955809123,11.047351743538067,-2.911414862173719,19.055193553817407,-2.1865593203853324,4.073057012002112,3.82457951060177,-6.447026021798428,-2.4975412504386076,-3.1406990561415724,12.1790060756027,-16.737419003907522,-1.8823777990179047,-2.101906478860838,8.84492890342102,9.743123510236469,19.523031006251497,-1.5641641664772612,16.82180255219093,14.663214146737898,7.683891743123932,22.34888086601701,20.39804900118455,13.483851447863731,-15.404224779131848,3.78952139884172,3.6246801933166064,-17.898476099991647,-10.911128500007267,4.834189846861847,15.672733542206167,-2.704028929401563,-1.7898352405934426,20.258071997785077,-13.518198884680269,9.511641541273299,-4.6990316796302345,20.511495452375108,21.26539816993169,1.0542709898995721,16.633879688924733,0.6699111935493269,16.79489069879878,-2.3595131363421906,-0.7738497071674052,4.9367677152277345,-1.4164925009386444,-18.449476709997583,15.563329015289021,-3.059135849874589,23.560312852162017,13.91107981496797,18.853058629335507,6.908198752984324,11.12335681558935,13.348213025096179,-5.7000781983536575,-10.71007203776541,-3.8885354631424573,-12.141186151791187,-12.494401718885348,25.694146073283246,2.5890583115750028,-2.6613762219131436,-7.961748769950357,10.803976014539067,-3.2515032779844617,-0.017492093154146016,19.091156325869402,2.1105493623669336,-4.874767349726272,-8.651058258216631,12.320938315960783,-11.661955154640332,15.601447364063556,19.09143147564683,4.1370061413303025,10.279925481755495,25.218573021179424,-1.4494475584110171,11.60506657227328,-7.093113773794442,-18.75335362518701,-2.3628940354480186,5.732671436199352,18.8201289650901,16.48744484070771,17.963668911874993,14.386016484330028,6.870022515731081,-5.454312693114089,21.159052677417087,-3.3507878947437364,-13.99558484155715,-12.617490260077771,12.161718996911995,18.977105531770352,0.25182355434367354,7.376785642773152,19.000942615686082,3.606571964303378,-14.290108628972398,9.337345335664793,21.027111012098153,14.350489753577303,-1.5466287647164703,14.573422391627735,20.12712730679833,-0.7738226784040281,11.468842509069958,-12.70061137469501,7.2155174003551075,0.9663009355541443,11.358628454206992,2.933777843302691,-3.5229161369365203,11.745878352854502,16.808841835114684,10.008319163338577,-4.309439831043481,-19.393904325324588,19.041172135348667,1.1628260690377221,12.967907052467167,0.2110500556905311,20.5808147291776,-6.253457647481099,-6.823073410516551,-7.160411594995181,-17.29095141048417,-0.6661254164072017,-6.922816526899663,-8.144698324615847,18.01464206179924,-2.0883696805410077,1.8779830712992351,-20.003429230473316,11.740267668451501,2.522192756127436,20.022189531466537,-0.7970046300886307,-6.118982835098419,-18.11516601949269,13.89747742238263,4.576088583178278,1.4532356570569602,5.017774198503829,-6.992979087163899,4.807814181246378,8.290493620045774,-0.6516787203958119,19.656113016413734,6.38889904046286,6.402602994055115,6.433431465500469,17.202184325681213,3.1105017282505214,-0.6889316107006782,-21.338782244754608,6.645708187299105,-4.030813880748424,-7.269244624417836,12.811265607399635,-3.3330257999759567,-15.32773975162674,-9.350732698412667,15.523546661447465,-7.950926713914315,-7.898459023719077,-4.68491635679435,19.45092847843345,-6.51760401720195,16.36545939959412,0.15337391087010166,-8.050522447901917,0.027935721624080895,-0.25483133123833224,-18.465253881231842,-23.43794791701511,-18.521165294400024,11.656770585988417,13.844551057930111,-18.82705594324141,9.75619846350038,-17.39268400203056,-2.148089566002178,10.594274670353856,-4.019065383791609,-10.469903043825168,-3.8526757585675586,-3.4895076310880446,-9.775193318567027,-16.9895886449261,11.260976227078231,-3.0347223194839383,16.054884148635093,1.411131234684451,-6.804997751683068,-17.830038039608766,-1.9385050537709416,-12.728915932385766,-6.766392952891036,0.0684894294495489,-3.357533272564149,-0.5575701394497826,2.265155438892062,13.880062663632522,6.876618028080015,-0.03963203290118508,-15.665991933385842,21.548382429704304,-11.301850110311424,-5.94009304998401,-23.438522285023332,17.400641247596834,-5.753022924201348,11.590438398675758,11.696790694985093,-2.76045958638169,-0.73371101318006,8.179007187518572,18.02416229944008,18.783639580162927,-16.746236715469355,-8.58262358592806,14.080369551593627,-10.540203109251188,-11.63159393765333,10.842907068901111,21.08498436361283,0.34542966109482437,-5.993631711437672,-5.966965444504799,-1.9979436625799774,17.20332021603558,9.913737165866333,18.029451582171816,-0.7204648796329894,-3.598931156233539,23.4579245596952,-5.570824911444529,5.08691207238126,-0.28137212740364204,-2.0682200673123066,13.144134938250021,19.770765350441152,6.557472255446658,-14.472822982035115,-1.1677207733248087,-2.114316130271178,-2.6245767029541507,21.036454638241203,11.531725663360882,6.977635874940896,-17.982483327713048,7.944203563947484,-17.48050327935717,13.741376310708022,16.063646296589543,-5.693393176227944,19.20110015830413,10.515508047652233,-11.259909260977741,-7.381316622159159,-5.768510588093578,18.72641401701994,-11.082264804530363,-3.457556581253749,13.359665034167962,19.59157814487666,-4.13750892666864,22.1871046754825,-10.753405929460131,-7.848939585932143,8.687084650518234,16.350092327250643,10.117266883681175,14.574184686736519,14.903017464306412,4.454846456974765,0.8478174841049445,18.923422071810787,-3.503755596841939,2.319283160499232,-13.939159726306718,-6.832154215618962,10.479299920690675,-1.264534504232026,-4.458356290316515,-7.09279554324849,21.3235054221973,2.1923453553861556,21.931605402443477,11.24613341303452,-18.86731412498615,11.77221864807756,21.311337883811916,9.830946523993438,2.9687801222391346,-1.5843127442960678,9.372970316735568,-6.351015126027957,-4.043994348953715,13.372504125653126,-11.333446024931515,-12.99996174792824,2.3665249874021956,-11.362970338245548,18.75566308139058,20.242723103394173,-19.262810725975438,-10.425966743354833,20.78930123415809,13.612090752786264,-7.043540177770539,-11.256835005710435,21.46706178413267,15.479787668010593,18.613538483346208,-15.96383081811922,9.303974140387883,18.72693222322139,-2.631632816421473,23.82903839329678,-2.558941850883937,18.885760446851755,9.227750848918248,13.395517970221938,16.666100509779508,-2.6278219398769482,-6.631400455456871,15.143810796212874,1.1972760332879322,3.1315849374815588,-16.092299463278103,-1.6770397143945828,-8.64941970195394,-3.8953291852250933,-12.144140256984885,18.5589872968088,7.716160994975087,-3.225437577601527,-8.936275200698354,-17.813161360151884,11.166071768795884,-7.188107086485138,17.33597936641189,6.6404153536308685,-8.044900815430193,6.577382144323199,5.566234217434181,11.567848879955998,-2.663806992910606,8.345229907128012,-1.615954640624235,15.076420730290474,22.398075437586687,21.087531952222516,20.292541196783066,10.926444632802504,21.09694565722825,11.375605750053387,18.843183598351192,6.092426654343691,5.620092100034053,-11.728300554059958,9.402565040035554,-21.887203070944448,-6.828750818789751,-9.594171680790774,-21.887456536049616,8.987215382369895,12.316360573481454,5.6219376744522025,-5.426071136217819,-0.7919338958925224,23.97940276423818,18.25312853955069,-9.15497823317065,20.390822107767992,-7.371506053780025,-7.698087992775462,20.441041074530627,-13.634614684925234,17.39064914337471,19.01997502864335,8.691904714176543,19.819785929600172,-2.640742704220105,15.007793273435958,23.78316925199282,14.284389861484199,10.844933486554863,-2.6750696651825208,14.346963018406477,-15.76622637582798,-15.730376259228791,19.177475197478763,-12.1429917412235,-17.582468251153518,-12.532015248313645,-10.92204875496339,12.90151342635605,-8.11278572278135,-2.412511640912589,-5.51916037415405,-10.632087174499485,-0.7425194918230279,17.235441796924977,0.9832981028958079,-3.607281701676523,17.748964136656824,17.85808636778242,-11.981435173740206,7.622811314795524,2.1226248112571136,8.610015969488925,9.174284217253863,-12.296297623686023,18.306406210632417,17.768568458429705,20.2451448993557,-2.410931453244356,11.594102882343648,-3.1314796017324027,17.93524391663905,-5.0585432672133255,-20.338288321563624,23.328600596851764,11.73574583708386,-18.456947643798337,-16.004141860621203,-13.55779230933152,13.473633404980992,-5.7739364405648255,7.317836149741395,13.004693895471393,11.087242431885596,17.939239960238705,22.37419611197024,-14.591199131077126,4.3142745987188205,7.51121572405859,-3.6044524760393015,13.696718736628991,-8.904231172540559,25.892229477807398,23.01529223310737,18.744685070548726,12.7321768667771,12.229559331024113,1.7531594613613155,-3.2824110804925692,14.729583070865164,14.652598072982963,12.038861932261838,16.213339491317946,13.595769540979674,-6.345266408015577,-4.932084747432447,18.03076026873591,-10.396536549054485,-10.35924737640816,-5.143775005701284,2.7305883560094544,16.482970673379185,-13.321959129973926,6.527794486117532,10.703762286412905,21.589901727584184,15.767063365342967,9.524075894574995,-18.168688877461992,-3.7049798713925504,16.395175821646937,-17.626801727219494,-5.300740954574168,20.317034535299673,25.92338541758427,16.734074526885607,23.49759641214694,16.461918775293483,16.611943648061644,19.82325270114642,23.511330728397102,0.04524922117512076,2.9458631775215665,6.483623966595658,18.049821802288943,21.623157662585268,-6.867347446525285,-1.5631154248157304,-22.652989995033778,-5.531838011745474,13.417418529023774,6.18761898316752,-4.818489283733945,-12.35918193219382,-10.113332495853266,-13.252541684737423,-5.080271168341702,25.239919847869608,13.945448739014344,-2.2959452097820936,-2.0658277146754687,2.2365161648481267,-22.653470590464185,25.073283272980117,2.2294810846469044,1.1969266562413343,-12.236755128880635,11.414041867821064,25.99909884800795,15.67199391740648,23.614748512798524,13.083576951371503,20.194979489041128,18.982760120633962,11.27810708448029,22.38930827572989,12.741630085021885,18.71069612423524,12.2810614816075,18.248007812235414,22.054310248852797,-12.560947928872812,21.47995830653138,10.504370714240475,8.794274761489255,19.23762942625353,8.51562895519738,16.64126044434281,20.885720380505585,19.94479960020904,9.679762127525008,23.433718991824765,7.1436411473942885,-17.801576514059033,-10.139080774013834,-10.39374297847312,-19.70144246533593,-5.065666625676608,9.891069986910646,-6.954998331316915,21.815556159090292,2.551476736903486,19.973129899305484,16.715771160647108,3.900357974525441,19.210383495484425,-6.892636357098339,-6.256302313636235,9.473567291888507,-6.405656638898613,3.0041984068196004,17.329388673869225,25.829994979652042,-6.94848643419216,-12.904903468520406,-11.089041855924693,-15.170891008145022,-13.456960346671206,-18.543984940967995,-14.879426015175302,-15.505838035893222,-14.758785652758299,-12.550634063954037,23.208047593171838,6.537690718439591,-16.722360760111577,-18.1065417267773,-15.651044029916122,0.09357966547531932,20.832552120761036,-13.914148727961816,-19.495503642100328,15.419781632277855,19.065555190658937,21.168072981921483,7.034876629186775,2.6957797930265173,19.428599250623925,-16.065195957486143,25.271278308208014,20.929530390519766,18.31491157281653,25.8229399080616,21.6686001041285,8.395416320904404,-15.437147299481962,-15.633766303197357,-14.40406352957346,-6.3739076023076935,18.48437342745384,-4.338402314426216,17.950259949948453,-1.2209588445643274,18.330203680465495,14.672165224649456,1.5794383534393133,-6.162408713482046,15.659822220298604,-11.1126811823662,-13.079900660473392,1.418249865515235,-0.6516766033307906,23.729529730843744,16.90112538042295,14.372458437865808,-6.530744743604243,-22.338770669695688,9.678286824098798,18.501264849962805,-14.866514201266739,13.50741897806111,13.481070744049454,-14.209432537994873,-1.2385323832722817,-8.110721084900392,5.866315310477836,1.6917999741089738,20.93365368868241,-1.133962489342326,-17.48878836464055,7.254565907346163,-19.33084245700319,6.363039591338972,2.3737110954634923,-9.30836465887189,6.158129810479008,10.119019409690251,4.020191521431196,-5.840657915130518,-1.3223271639486907,5.863638359311678,-6.324961165868755,-3.011993573976606,-7.3924422274895365,-7.735168561476299,-10.015250128385075,-8.731833378884895,-11.685238335738592,-11.456991187818156,-0.3784232072576464,-17.706787145079367,-9.634653070886714,-16.921251700920095,6.592885873969492,23.873317660955088,-14.115465619342666,-14.423531055212456,16.416282402204086,3.596250042664733,-2.073560097327612,16.758184230693292,17.501896811415246,-6.369173058912906,23.396530684063023,6.193490298156415,-1.215639344614528,23.494836204095236,8.482074657288877,17.980006582810145,12.035490037972542,18.267262651181007,-4.587396394387926,-4.0440901723622105,4.290041625895964,8.219007014886358,7.982474224930374,1.4624947553045395,10.682390124403126,12.594537163490848,10.494049024230925,1.7338378088050694,1.9952257857045859,-9.416121322336283,1.513825815070104,-0.04763269511562899,0.6192452407749273,-18.09273626410559,4.321523698200317,1.4946713212954847,6.950083338680302,9.467536150351817,7.231036898988063,15.822450350790993,19.401696290347097,-3.1579727068893195,4.720415906511469,18.898560015808812,17.64397181857792,-5.817244018691312,-22.29489689032472,16.52972719689652,16.127354562737708,-1.050049238983013,14.731247884598668,-10.71663777487911,-7.188627356964858,-8.133865891995933,-2.7337439794109017,-4.268036474602842,17.921306291431215,21.59450674144203,-1.8146093585861802,-9.022752502665126,18.24013250831446,21.650745773659935,0.4223571954685923,-4.281440403187849,14.486262458373595,-6.377928099132497,-6.126181363607733,20.42029328525351,18.95507156107245,19.64253947080284,10.169053396750853,-6.164864026042076,-0.6058930303793303,7.490964808052832,15.142540604022912,6.697520072696316,-9.021310821744692,-8.64116275566896,-3.3514668057774517,23.958824115535844,-23.63344505639613,-23.630829598388498,-8.527412402397076,-7.343853321407157,-23.635109615862635,7.769564308185376,-17.68298684459548,6.038821148025132,10.71732934450617,-7.738240840776461,-3.0316994440312506,4.500855033478209,10.058292189546693,-1.1046917882430105,-1.8458132430402883,-8.506811851103468,9.58888423488374,-11.468883092273247,8.156623736836183,14.292518653051065,23.70639163039395,23.400093906437498,0.45818100386548527,0.4079949195643924,-8.633047399054629,12.21801278464274,-2.8181909223032444,-1.2106866191379553,-3.0190996462232276,-11.495199247894234,-4.98232374755531,-8.589798472188434,5.869401485008414,-7.9602449631709336,-4.462685967895793,-3.298171173811047,14.138851409355023,18.76052355345347,4.115086337845063,-15.904298698296024],\"y\":[17.631359023732816,2.5107389140918124,18.86799813233261,-10.693094235456456,2.2489725434504764,-1.4079215495043336,-4.551658497701643,-4.668642865522822,-8.678060334611015,-4.404610689516156,-1.4405579880173967,-3.2655240000528774,-15.274073973353197,-24.59772795653451,-2.1632160511391088,-3.233857542652059,-20.834914743634005,-3.5270223444135484,-11.61592444976987,-20.858030863576555,-2.4627791300731956,-5.144961410359473,-15.442381298500772,-7.183753671891246,8.60867162307008,13.149464195160007,-2.1441605640850843,-3.178246426838845,-26.017111954660272,11.034994390937463,14.176249795087465,11.005361435536315,0.46323885478930116,4.669666891979799,-2.9016820944553237,-26.25989664868714,0.30843221448190533,7.451149362322701,-8.201405061184945,-10.449058981974053,-8.958917352130813,11.081568193932076,-19.765674455101674,-23.50953634589936,-17.63963662351629,-0.19289929631559855,-1.864303718798563,11.069635689075431,-22.018952507441266,-25.83834173618523,2.1606223417365897,2.3776439239852545,10.978171388057019,-14.384424003507304,-7.758601097942199,-9.98560220675094,-9.455479908364778,0.5694422898606992,-6.426532497790296,16.29089177450048,3.7841736157581027,-3.673923930809727,8.513501191127107,2.9408806453134426,-10.970496803050546,-22.10011973006372,3.8782207054651767,16.924999881962794,0.31563354060974463,-1.3112491862930002,-0.4978871234680345,3.1886548948580704,-20.33529296028335,-19.7705642442586,16.03154477306166,11.777644243994201,16.62891173530879,-15.571358215551841,11.75508688199295,8.595978381320787,12.208625675150468,10.721124909741777,11.165423255497462,6.623785755025431,13.266541234263602,9.545257669805563,6.889866837684173,17.655985781025606,-11.65786897111553,-9.780634943804928,-26.191843450480114,16.59359398351096,7.506253942255343,6.120700925622951,16.599910225324223,-20.368102596720547,5.198849656197133,3.2835128455241884,-2.2098374835789896,6.101762031562056,9.126095505132959,-12.258037766973969,3.401868681342453,3.9540111169546024,-10.2849657454888,-9.814379926489526,12.995680284027058,11.107926621269447,-1.0495248486756157,-5.266797909433475,17.883856638823076,-6.829932207546474,-15.879542468184939,0.08621872077081183,14.752447239706042,-5.158579525785346,6.4023529236247665,-1.5730323798851176,2.8031821555857377,-15.980033621202837,-12.451011069264004,-15.356941167352053,-1.2506881158250929,5.3117245024858075,-1.4513783348486784,7.15423073899105,-15.240968481032688,4.736424860485482,11.48623688024885,6.224503121889649,-0.22183843659338517,0.33024541023992854,2.352495023445205,11.193910604902877,5.315588709088312,-22.966500976919708,-3.0978357829166043,-5.526013194327669,-7.892450312550303,-12.530192104032162,-11.980168345639767,-11.784431360351938,15.84639584679333,-17.910361710359318,-21.844862882864174,-11.507761751582175,-5.903099728913264,2.1130397676195662,-12.637719540344635,-2.833929077291037,-8.303040368279255,5.548249012416831,11.665635458396377,-18.9111834346556,-8.415414797396988,-11.903868597478356,-17.55232320685608,-13.626522845357822,-18.704910997139233,-18.604596661302672,-25.417883586458405,-22.44056827148533,-24.14615699933066,-1.6618708365895356,-21.3445177566732,-7.22442326822669,5.777378109192077,-14.960634291375664,-15.403289809857625,7.340342194437946,1.5075572399350987,-7.58425994752153,4.41886962820018,-21.523999900195896,-21.50040967362386,-3.0479463116159797,-8.480938296507484,-11.19449489103863,-0.9025800115608013,-5.248611417398977,-15.580670752724316,-17.16938622262695,-6.617402905575831,-7.610675137653507,-13.656038921931609,-14.348948018076877,1.1832202394780982,-16.015916688365603,3.3013747193488436,7.336885909716031,17.691291571056446,13.118009381079743,15.413539266359951,-1.4768504057904899,14.868008006808095,18.51641584920847,15.374864074646176,14.876265002425306,15.085878449169655,7.236788326438674,13.251748406933284,12.449985136756432,2.0954041292719046,17.13062147946429,7.766798843006083,4.696523057198779,15.46170075263308,-8.87172490172526,10.775719072978083,13.439065584124883,11.22544153550026,5.999405311605175,12.017089994233126,10.70566476065634,13.832023449124232,-2.269158176990775,-2.9276676135804047,10.50149201589534,15.109376847342768,14.18888256007265,8.18574942614765,8.195528789069812,10.419482315267219,-10.689370352697997,19.00891193659297,6.545441951415105,13.14351413816902,11.07693025305143,6.42994459564213,4.408180315339321,14.610223455355808,11.23740427917825,8.6794688122669,-11.973138844331531,-14.10219186526087,11.369270719448727,-16.932097319274597,1.119018895617479,-10.846100720602706,3.421043537515561,-12.819642052678354,-2.75704811862319,-1.8676616606096441,1.8876495206548214,-13.452878393872547,15.215621661620277,-2.3789864045954014,4.3947781400837425,11.495584062581509,-0.7934642339825363,-21.47374670421958,-21.806524879766002,16.427729286981222,-1.5132837483376214,-13.443586212730274,15.726537985347342,5.918028202545482,3.617683063883014,-2.1405406780228007,-4.447060298791362,-3.038091291352086,8.780263399669565,12.16453040503734,5.897842949419631,1.6344665770605933,-6.913315845655613,-4.69795922576482,-4.832082118704893,-14.252710235349682,-11.387721137584407,-14.08045024538756,-13.365288916732577,-6.86633454503191,11.988796156442513,-2.0355619344306852,-21.28454804148596,-2.981006255609982,-15.318548299690608,-11.728509917262146,5.440782345118813,-9.487130686592547,-7.185315705046789,7.173790643250051,-14.735177892145515,-15.197706829523726,-10.589386695352465,13.00660716528957,-12.311986498818781,-13.240572459129218,-15.86899812060224,-12.685883314765736,-5.718117971243972,-9.977054891876659,-15.727167462713707,-15.807472857633,-4.49867545314949,5.8311893171726625,-6.461084668060846,6.732085993943027,-6.81286238618427,6.638013293509003,9.134354041176143,8.522937383156146,1.1665461549873037,17.79753060857232,8.917654594575845,7.510867617434,-4.2093866076059525,5.6011847635003935,9.28432596794736,5.909327975521952,-13.97079438498157,17.95306741778227,4.774375794919189,3.9074348244821,-0.5716132857489834,2.609352647388336,14.224327002519976,1.1517028848477289,1.7320781604087796,5.920202449499459,-4.734343762729211,-7.544105642591543,-5.308076014591872,-7.248866979411446,-4.748318223386857,-5.1690784436949455,-7.791110826118426,-7.771220552135423,15.256424403602312,-4.466315051452032,-17.05658789306963,-17.653276315719808,-17.961122135079712,-5.065106640671132,12.119213291665577,10.119884208661832,-5.2196861034288675,-4.476335697721339,-14.604710826458707,13.003087014285738,-4.1257815613658675,18.360913906552756,-1.255693162637006,-9.507765807052039,-10.05179483970377,0.2447292291981555,-2.0417679926450067,9.632000950997206,-9.566387250622288,-4.189462994622577,11.74461806560218,-6.771820050251974,4.989773114886821,0.3103396252237145,-8.720411382279284,1.7011084647670958,-4.39701218377299,-11.384858192544568,14.630291937102998,-5.91761818141953,-4.395506402438203,-16.78446659966842,-0.9104373983664023,-6.829685115270565,-5.777375700816745,-4.268822156555714,-1.6092763020850755,-4.264371594345216,-12.849585285498474,5.095826075231271,-12.138603542296904,-12.287098497861837,-11.16384839746336,-8.745666488748615,-10.004881919479804,-11.128129548837721,-11.26249663271076,-12.474722916489702,-9.898187216175081,11.651422573336593,11.407637455669747,-15.107579743464882,-5.2204232556362795,-8.916932435719904,-8.73864289208039,-0.9182711679428021,11.736256101721295,2.4274644630672624,-10.312640887410616,-2.5923496608176566,-2.600327265872531,-9.472892437027546,-2.2238445549367145,-3.825685067404645,2.3281060155461013,-11.516808461742098,-3.9249590632092506,5.0911919239188315,-16.160376838457292,-14.984009803300989,-16.271136677640214,-6.046581535134655,-6.374465738013892,-15.115141966599058,-14.401038107528933,-14.588987003074175,-17.28266237363188,4.126314923635863,-17.94735394470818,-2.792522819056674,9.559145593054968,9.045254466782698,-10.53986756262752,-21.87796700357002,-7.796523581037152,-2.0303166135321415,-14.849225218566867,14.155708444910875,-6.653549116049475,17.424820064608966,-2.5277427535250077,10.091900071261488,-16.275540162218547,12.108336726206911,2.388862684231644,17.95468460490597,17.806839958563593,15.225256769653404,4.93986058074813,-23.299536620249018,8.084210749710683,-17.00401843861077,-8.528738444970116,18.793879418719442,19.84773115477691,17.826236210164947,19.652180795251624,20.02703237262983,13.988213559963876,11.329413987370392,-26.12438156873676,7.569441457990824,14.633952666600589,-15.87389967056796,-12.39118032042945,-9.824070147102834,-21.74293702427743,-11.579620075895788,-15.321795203147401,-17.87037735396738,-15.496185321957176,-22.02258846772864,8.115632345888688,10.881716935510651,14.633723992074987,2.492351746214928,-5.7396305534871725,7.68545334770654,7.721316316511756,8.154227890174537,-5.599828614239684,2.5103294925802944,7.674348369815724,13.247291064411847,0.327398800392422,5.490522419829293,8.968324859835349,-4.060235265861258,8.817850181910279,-15.01356574449231,2.528673315894979,8.502729340042457,15.593674249892153,15.548093149224998,-5.895330138333554,-15.448785584027712,-0.7406575826309434,15.687171266534904,8.500776523406342,1.5344399281946015,-0.8584138705198424,7.147841604209705,-8.588019172126458,-1.6103718045771942,6.555968841200047,-3.6849566478089906,16.011623993245994,-1.3766189103957382,-8.408658261331695,-6.059934886970457,-9.386940070690766,16.18349645978555,-8.85250890213191,-1.0692015327794748,5.297301818031936,15.966999777127887,-12.979914070217683,15.108011640801308,6.937449272501484,9.155199561968624,12.642943185350436,-2.7547238879205964,19.9599679072221,-14.544770344913896,-4.625481848560313,14.395743114356188,9.009331978810014,-6.816503218412479,10.220139795955378,-3.3409045225961758,2.4171378593237804,-6.4433440978980085,10.4222460241409,19.24235124873737,11.790703109670114,-9.127937813408517,18.374439740643123,6.636429680598182,16.320575937312977,7.633046499521156,-21.20118621573358,7.609853222916789,17.168565548630493,3.9678623903048247,14.966903043546932,-22.752397854899964,4.928901446385303,16.65393896461626,6.846701211529204,10.147916595278742,17.456183066027258,-1.9177832974482751,-2.1385318746772164,5.182789838927668,5.752978381243557,5.4602778525363975,6.743967496622346,-4.543274200002007,8.473695364768346,15.84960745575248,4.02926311084521,16.071801964589007,11.960224363683434,10.652883017127312,7.143188192866981,16.389507016457898,8.392656303494405,11.331643570201267,17.974368040575875,10.566932065964878,16.21190924971491,11.843656412958497,2.4180931329571775,7.773576536524372,5.788983383690669,9.55524049581327,-4.6446119967023,8.113770602966158,18.94163109016345,7.624855216642201,5.557501595434411,6.008396290220474,1.8651127708079789,6.87137109462274,-5.436016730837874,15.799125562174462,6.9455053397487765,16.558470860385448,5.944028792447836,19.32758439958914,16.548477897610184,17.24509084424428,-5.0126810267846,13.259418290312542,9.958224453761522,11.530250642892925,-0.7796615697717838,3.5201555093366945,10.68228104181303,-7.467069506409019,11.129933607356342,8.176667574542849,-3.704799205419935,15.828859067164245,14.322582529191788,8.464360086441113,9.066408802028002,2.179064065685432,3.8761336812949967,14.33765251906708,3.0560850161324216,5.109727155687777,17.86865432957894,8.90894022415281,5.968311134977041,13.564292106427791,6.174173218242965,5.146994435609932,6.020294317695643,12.832399522214077,5.738751754726139,12.52492967431625,11.434763858658581,10.55352209531531,15.22383425785459,11.314363376997774,12.461877486587278,9.971087552174886,9.67299016362162,8.687188462629654,-3.544651685489155,7.176003014374209,-8.543630936485911,14.00103908528975,7.054197192083273,-4.307457212620435,7.1609261214868924,-2.8579511742639507,8.636739160626792,11.382817928304437,-20.656868596832958,6.101937706770246,11.564476198878312,-10.029826562247997,8.786634124353707,-3.336250981396494,13.319779270830919,-11.653952845635786,-11.291550310848441,-7.752438544777966,-5.189798297674068,-3.8916806518902725,-17.825562275882564,-4.004313920581755,-6.55404764409844,-4.356103265074752,-11.756575372892783,7.868731824837498,13.51349828418462,16.080008437702535,-1.8953647366000175,5.425140175042681,11.771403067001414,13.180066143407672,-10.694345713316656,10.686111930239901,10.857775294759994,10.547572680598044,10.761178223100824,11.242569300286968,10.247623217943564,11.41070164241529,-10.283700156636298,9.272908181989465,6.421794196660908,15.605421517839936,-9.104647537171028,-23.396594495025155,12.307429039928186,-14.4394818500555,-14.982482225652664,-1.7882370850010254,-1.8730022329953881,2.0035938420511537,-1.7521648418447457,-13.505073165090165,-7.073036727986986,-0.20758815000487485,-11.918372411225798,12.18314020706124,-5.295078192694176,-5.4991523500541595,-5.246572466271302,-13.456081717574017,-11.465462232870518,-0.5796127576958244,0.9343915017088171,-3.1869012141289956,-14.664680050959834,-2.532066404619726,-3.7681730498914265,15.213169854082302,-14.3528910681069,-9.80614212105171,12.210035150896623,9.703996432671605,2.013090173428049,5.125850199208609,12.090403157033858,-4.160702376143068,-9.27819644080528,-14.02764671019554,13.165762509347081,5.22537794286275,-13.44629623264922,1.3371002724945114,4.411208521778902,0.850305954428568,13.335456573383206,0.9914748765764594,1.6670660195262963,-11.09094389445735,-13.03969574406426,12.813902105265953,12.880715874684162,13.332147885324598,-14.91003068562288,-0.12347320928613648,-15.434475742041123,1.947361453232625,-15.235648500978662,20.0420407244463,5.403415681292638,1.3812700633277308,-8.151330271480656,6.688282716000745,-4.664308719899424,16.651183326698785,-23.65374342776108,3.047752091384446,6.634762020272906,-23.466784752636045,-6.961917021313974,-8.394896986492565,-4.2876708287654,-8.367163856084739,-14.547591022689208,-17.74539352567745,6.264148603364104,15.21025143533872,17.89883158253019,12.99691558499245,9.350811134154819,16.817617606379464,9.020714281062322,5.387919830566956,-1.2111179300714914,9.634027126548848,11.08776829649501,0.21001343274361473,7.326415801514491,1.3256820509606186,15.09229044500467,-0.5359721803518622,11.66110012558454,17.26719443256838,12.522219790238967,-4.865217177558631,4.97521642924521,-23.840654655300405,12.965349400339544,-15.897784028437808,3.111787015124456,-0.17285047135471632,0.9766307176045284,19.087039026499284,8.143518430590658,19.04530907622932,-0.39805564615428946,19.067011573749014,8.684764132307016,5.484644266487566,8.049811205702943,12.868298264199538,5.883508123900147,-4.059189709729798,6.220043029521724,4.761721894002723,16.86583701364833,2.1960912447375502,8.010066580388614,-13.93763217939644,-8.083432054209739,0.19525686426527655,-19.17406292173564,-1.128659408247853,-1.6264084188468406,0.5912153394391818,-3.818964717764579,-1.717583792221525,-10.109543522259877,-7.623789262046785,-17.663780123345536,4.986920397349871,6.737362957704772,-12.193888085210405,-19.967811699879274,-21.620064253566433,14.251409212807618,-10.104303215767178,12.407050906025876,-16.208473797228777,11.911625515680065,3.760358498231868,3.529941317666269,-0.28828164456167216,-14.54296273545366,7.278490983647837,13.548842753189078,-14.043129094481628,-4.706109313013482,-16.7016907471021,-10.267411875530703,-18.817537825527108,-7.0693991847521644,-22.91485877151226,-5.520922250168095,-17.681666363226366,-7.585999460030656,-5.715011030797901,-8.586731355468874,-22.892242199947823,13.59068560222257,-22.363379578326324,-6.941053205513145,-19.126223916522722,-18.282655166437433,-4.4723776956008425,-13.880362819814222,-8.059530892131582,-24.35466011114873,17.359796863415138,2.9871491749576187,-14.57632077069433,-21.823881438771828,-8.123148212153053,-13.632677471021585,13.313300633644836,-16.478754417903012,2.8937117188715176,-17.02112053069586,-2.874724553238312,-14.563216501859102,17.336465644420873,-6.468811794532101,-6.9477522509793666,-14.542135143833288,-19.486612079533817,16.982630556545306,-4.591666244821501,16.35813801966269,-2.31739345579347,1.3243939491919212,5.042959312744993,13.425090505954541,-11.144754614331656,1.6941204781388497,-7.934774259341691,11.221022826443976,-0.43593846821731796,10.418670856533229,-10.814793408402133,1.3832076817237469,15.188736344775878,-18.657669960193555,-22.708541259442175,-18.04311126922532,-6.862464134949861,-19.857103612967794,9.184911868438165,-2.413957978025123,-26.562281292563878,-8.311230396295985,-1.4453223013369683,-6.144913032893691,-16.95922172219203,-13.319546212637201,-21.816723248287534,-7.661511153274448,-1.930129206970371,-9.081709122776324,-4.224956788514474,-21.128729245634556,-1.8221701536698918,-17.676864519341795,-12.122540219201946,-16.373577397734014,-6.538514215457321,-8.180612133572433,0.7692148675560251,3.632146984154516,-9.738466616458783,-23.316433987983544,-25.126401861720367,-0.8139329708991675,0.4002829683438709,-12.801497487724273,0.09103333535297008,-5.7464426519046885,-10.015912826639212,11.240073123007477,-21.23256783525732,5.526941299803475,5.400933460605713,-16.85722052476147,-11.480814966703054,-15.797026451595736,1.4540880169291188,0.8075403554652271,3.676447727754217,-8.197781495132212,-1.6202306387669594,-3.593952744117985,-19.10024234577004,-8.029032509733245,-3.349850052574244,4.993904674843005,-14.198838739747224,9.022107505533404,-15.281741559391572,-23.574490368900804,-11.37293441428918,-5.241877347661268,-17.560379537287805,11.769939005510281,-17.985200046005758,-18.014063915798136,-7.298013727105154,-22.14577302576199,-21.751641180457156,1.4268535809357819,-12.432322678270028,-16.590209472764617,-22.767799682075033,-3.996258320560609,-19.50188614139097,-14.016933534863004,-9.994241396040982,-16.971349569373366,-13.372355767550912,-23.623382682233164,16.5180765545827,1.325232011228595,5.905243097267051,-5.575948339121499,-10.864327239000067,-17.324912963730306,-25.615339159114694,16.985126164992764,-19.354584207140533,-10.65871844877939,-12.53672633904063,-6.103022640926297,17.5646479079993,14.044832497315038,-14.542064705098122,-1.3672379717768142,9.762026217257851,-16.605102996455653,9.201013356504367,-9.079069720598746,-8.15336839816116,-10.356726166934916,-19.728160533700226,-2.981846770393595,-6.687520889385883,1.4133241910977934,-8.57297928929212,0.13303991615140992,-18.14630817629362,3.9125741019916336,-9.933319413971896,-13.843697113378399,-10.063647253485819,20.052940804576696,-7.223698303986906,0.26904668657548847,0.37683035167033974,2.471776232641592,-15.122811568179005,-7.617671590378381,-16.014361192391124,-17.110337844589203,-10.453232664400693,5.111499545283727,3.0091998652088194,-19.007965712757912,-7.2714461029269355,-20.74444486160372,-24.260011786970946,-21.225814425272304,2.6353967045975164,-8.560498814576555,-17.474139490681996,16.338090927460524,-9.224488674635198,-11.620529988187704,-15.86850636654254,-24.35390570107398,-5.773042704116785,17.185339214192158,11.849862509042715,-16.9291041680586,3.1367245875776018,3.880096711616061,-13.122258273076062,-5.902664004139374,-13.22887895076587,-4.3142294443992375,-16.679380995867938,-8.42549463950234,-0.17567619496504572,-11.892250909651052,6.964191480689856,-8.478928408293518,-11.822044416505495,-4.371502055013384,-11.48494331497287,-22.041325028489503,-12.165967188775358,0.960464248816017,-5.2720351930113525,-7.745031507282822,-7.800234965955043,-16.20142982565913,-14.262075457535925,3.729808181005415,-12.068009999102083,-11.577118178543008,-13.290500806795336,-11.97209066126517,-11.848684312813049,-19.06135056550453,-7.440294723089856,-23.275092394314967,-7.342918836383483,-6.329887136508596,-18.167919119165646,-18.123801276463286,4.466582657395376,-8.316267555551732,-1.6325866847566746,-14.104413695700842,-21.0766150713186,-21.045245912293733,-0.327353713823926,10.072584335685958,0.5480733239050574,1.247450652437183,-8.782283454877653,9.347833500605025,16.731907780549825,6.829712551421473,9.813824766396985,-5.669128451534106,1.4243358746194785,13.587237664201746,-13.310938745871354,-17.89936350425548,-13.848305493953394,-12.289863807397307,0.8447396119762443,-5.589254699396757,0.762108046345251,-4.734606059858212,1.1666028407318387,8.672508145264285,-22.73930618519332,0.9824747864235486,1.750176368214137,-15.399557015539985,0.5171221036594411,1.702014442082571,-2.6549520993230358,0.2538368010100118,0.14281861313999777,1.7986858104708126,-4.166946130223547,-5.064817287756355,-13.191062908124565,-19.804011298486376,-20.625361417525767,3.3844281027792213,5.48989060145286,-3.451805752770074,-24.762054092056477,12.721791354385038,-20.058187647493313,-19.316875907969877,-0.06362537207393101,10.361462439270548,-21.044706912238247,0.9064744280427829,6.24246501559007,4.228099211346825,18.336605536895373,-24.318414742224476,-5.589033570506649,7.0032087451100615,-19.217591492856833,11.822181192867642,-16.98986920468465,-4.276386916488365,13.37135328102402,-4.004777260429628,12.921518182546174,5.632216913599796,9.151710885246073,-4.301245737649864,-20.08240108174995,-1.6025402044270987,17.065189946336215,-19.117789079015033,-7.2066190105729255,1.4673952651769475,14.837784815063362,-24.483967787744533,-6.318623586503797,-16.917002078199914,-16.73894845446604,9.72152620553596,4.744114908357658,-26.194222683111335,0.33016420055418133,-5.0247900876689515,9.917153690107888,-4.810929769030733,3.6689653103402486,15.81657233388158,4.159102621561763,11.123767072015735,13.652891873626702,-4.612798583922164,0.8695517775775243,0.6559699514288821,-4.087847440870019,7.0130451601350465,17.146350536231715,-9.82571311449642,8.432651182492654,1.3297129004038648,-18.004786905484284,-12.872011714564971,-19.145030754803734,-7.221002854778098,-2.2960099070120683,5.091868881251927,-2.9091859372893882,-22.28141771100743,-16.423608132053193,-1.984485853268346,-16.022113321307135,11.803908197742611,8.9799137440384,-25.24852787709281,-3.1608042231472493,-1.6432889338875616,-8.0008165407812,-21.59038746149071,13.449585483494074,-14.301862438401121,9.905244845428266,-12.419015021546628,-11.163982171588062,-11.939486511824885,5.210449685117214,-10.669452867269252,-20.28842088849186,10.570353591640561,-2.4305219304672265,-2.318360299443106,-1.1393971957604894,-26.91829375063602,-16.09335243043614,4.167706939570158,-10.198584726761322,-6.933130181209295,-15.329615213632222,8.706468706801623,-5.305716392433633,9.675887527362521,-15.812523436595422,-4.495612562089493,-11.454374138380114,-15.222076935486136,-22.241269257480294,-3.39450660349294,1.506808378300649,11.798184753459186,-0.09076174374514712,-17.50205420294318,0.221212418176371,-17.800798532466303,-9.405857892037387,0.9142994809237819,15.51067811976571,-14.80451441959273,-18.24621376651049,-15.954320782440941,3.73917213584659,-3.56436496752991,-13.252968606199019,-16.707799255306472,1.8062131066717169,-18.155377042987997,-17.731967000619054,-11.121926576624201,0.134216948925062,-13.631169334954375,-17.678955147032003,-15.09445485614807,1.484376312566853,11.054690135091262,-19.18089516436559,1.4751078209437922,-5.006560173229921,4.930356231349894,19.028201966963078,-5.2121167045127015,-16.76363448182873,-8.532792137279888,-4.263886740499458,14.48099851675515,-16.57637960850829,1.8136743313971468,-10.659926420383444,-8.769946881222005,-5.326747856922539,-9.243090948381456,-7.041272857239544,-14.154382453836968,11.138223078462161,-17.890803925677595,13.21985074772987,11.452621457077417,2.279825054601592,5.224920861457921,14.396853259619178,-22.74346619904394,11.36130821582186,-8.544844459261165,-0.20550808287488434,-14.897386992426261,-17.167756272953916,-0.21662930211304818,8.272180506524508,-14.625857184548199,12.958459564459453,14.046307461229814,-6.817498579212748,3.1080709251641916,0.05712204153922597,-2.4220442558196615,-7.263935634967609,0.05962257120497631,13.437839298132438,12.604999082172599,-3.8596314199225046,-21.88124043508356,-14.30114292589904,-4.28532572068119,-11.417610318915086,-20.562705576936906,-16.95806377683404,-7.185629933645898,-6.9945311371148975,-10.787720397705495,-9.771055666926546,-15.786286656954362,13.316247678094006,4.4075401107111905,-9.635598462562928,-14.748307988580773,15.226387164044244,-3.674766992156539,8.868301725043093,10.436151273656742,-14.717741470943954,8.831553579713779,-13.460491601651329,-16.260854112085415,-4.442321981825398,12.139965898620147,-10.566491399806681,-5.848384131008526,-9.480022268480822,17.407213695192006,-12.046169003710103,-13.738203683748527,-22.250606343093075,-16.315132990284404,-12.364370741996002,4.646477396695228,2.0997297305200706,-6.170277132490252,4.265773649392252,-0.15480244554296407,6.405631303995743,2.1458957779030277,9.19755936564379,-16.18414373879,-18.281735903928094,9.10518189394122,16.00309703766339,-15.159844056816928,3.9765232368089256,1.6852149822336826,7.09513287495814,-9.572395741505296,-13.006337657657808,-11.70887014277029,5.578187251566745,-11.92412069776932,-9.860107492960715,4.8334366346767705,-13.975519443069224,-14.499247522470704,-4.250778397306425,-11.64288304129906,-10.908610419977553,-13.191640114499544,-12.123667484520064,-13.191528993071422,-8.455910493150398,-12.473773430474262,-10.071171124213539,-5.959102573377483,-3.6766447072347512,-17.834465690731534,-2.099582963220215,-12.133402765220703,-5.857940087879036,4.193204398963108,12.866410700265542,12.220936588872844,8.581374747102318,-4.212272410994395,15.596974169424096,15.719675776715833,12.391547158141448,10.320726207142538,-2.614705680704972,-11.714397832715177,-23.877380891351365,3.3799213636260923,-4.74285111768782,-4.7535302059485,-24.099120140395886,-18.272561324955824,-11.904955921256926,0.5473408869774091,1.4696268080065067,-12.104049682310789,-14.351510758788947,-13.98142327471318,-4.784490115486758,-14.515510423046162,-11.124774063480555,-6.095971227042604,0.21594062272495945,1.2663002453374552,-8.736612670230807,-12.519649661495901,-13.907825734911864,-7.445484615789168,-15.442925361866257,-15.44280415052452,-13.748842535847613,-7.512515351581235,-5.148846899624054,-24.354134116555848,-6.352057412034529,-15.7227047688319,-8.64932521059052,-2.2191330501713056,-12.633370221229368,2.6761866858522896,-2.8922078923227397,-2.8347831167435995,9.456941659409338,-11.720640722884282,6.188931169331165,2.955574125185535,6.63910178665693,-14.575110104863858,-12.1466914482063,-12.22596097356533,6.411881622193746,4.754721580420093,-2.3402271400249055,2.676176202462709,-8.517303926827083,-10.289021843340418,-3.9877013049498875,-2.3142529736510333,-9.190226456284627,-11.163161661345807,-13.388866791339488,-11.743199614393795,8.237962428297216,-7.306752331604159,-13.352050053013627,-12.127950959055516,-8.329403217549977,13.3918071793018,-5.94056434106964,-2.5111013198511496,5.705592441149245,7.7639620457599925,-10.622957209861912,-3.8489361990202866,-12.129936888208128,9.199999064107013,-4.37095152398234,-16.211669548911647,-3.3297326157832265,-2.700115911015737,-15.78521358457918,-4.960672725066572,-7.3487670147811395,5.074988181146238,-4.482504483846149,-12.49651953123157,-12.256281156006654,-10.359305458972196,-11.678303120087993,-15.333727864578552,-0.4097247508768713,-15.616734793147304,-19.929353443083397,-16.512133868529055,-15.365019222330728,-8.112086275334988,-10.521376232426531,-5.7842688137205345,-7.179416688985889,-14.403307723839825,1.3361917350679848,-19.305682124232174,-16.956533249055425,-10.90882240355726,-22.931622365737404,-7.692059303535968,-12.166219428830361,-1.7738834910768648,5.550906096998209,-10.024819151131625,-15.797237290224306,-17.61077370552621,-17.69584888600064,-4.910207826767083,-8.395152253983929,-5.402838296719159,-10.229935542156342,-10.364434105768144,-16.60046621736224,-7.396497927263221,-5.259408125148473,-11.433614879793312,-7.771456524627305,-9.645812447376578,4.050527457380255,1.5766614725326449,-4.6977513135247415,-12.033328702281565,-1.970004728438802,-14.97534115561265,-4.12189800021101,-14.016639916518065,-1.4292002270578585,-11.930920943825358,-4.354387359235397,-12.173977915572033,-16.713965399316145,-13.515475181122335,-15.975047082653129,-3.5953504262328804,-10.077229656926425,-13.217361892897316,8.445181734564688,17.937777742259907,4.3738517533328745,9.782722326647718,-24.384160490123005,-7.421933721143495,10.127792355932444,4.9207821473940605,3.2220658775970294,-14.5719537958126,-5.086419270889443,-3.889219581440788,-3.330055772323569,-13.762170376381698,10.29293711220164,-9.533916508888096,6.907080181280548,16.22314779105347,-16.259398204866937,-14.355914429881429,6.12805870735233,-17.69913874531874,3.4799760684307928,7.045625016263769,12.503561273040987,2.9499119779666416,-7.3519179120245415,17.612660972037826,-14.87488061957398,6.646650822835764,-9.623913218321405,-15.21487176077026,3.8549091844073327,-2.399690440126085,6.609678020927869,13.468328121521122,12.955829380569076,13.00525613448962,9.505049971718407,-2.639644710110233,-1.7205367762194206,-1.1472286446016458,-2.7031333622502296,18.099639296905675,14.618040529208157,11.787431795659922,16.994342665612333,13.993626459664009,13.041847999420394,4.670906884951219,15.715918559206752,6.389690750166791,3.704181964056517,-10.18307252743668,-17.146229529184904,-8.525175210702866,11.107471603942132,6.780001162461873,0.4190645456038752,12.239317667776026,4.165413524008077,-20.021432351748672,-13.604812457350464,-4.9308182429522,-16.43696945911001,-3.063884466238971,-12.085619226348475,-0.962387546533551,-9.915100437058463,-1.3559524620597336,-23.669556335430187,-20.758560302261692,7.697536697753243,14.494588015027656,3.7081170158474492,13.427594646468325,8.361558362732255,-3.4458615814180154,2.5554623729722574,19.926231345492894,13.910955455949331,15.258255717764905,19.90988334425787,15.44705928163807,12.907472957727496,-14.447133690583517,-0.6221324562483945,2.8105061883176545,-9.866992240132783,0.0037184651298206896,7.647969288337613,2.362116274126107,-1.958144254932608,-21.2818262210555,12.65304434391403,-6.4742818258246135,3.4765806414121725,-19.942302729989756,-9.411268772363249,-11.462911450723846,-8.000988798331939,-16.350659334600373,10.966755444390024,16.81990882654286,11.307685841197701,3.4330141383624513,9.363292712480643,13.726974634509332,-4.4034967419844415,-9.324098780915998,-15.040486870017105,-21.194987854818077,4.973446792836481,-3.609341190778834,-18.21964913019391,-23.765989762478814,-13.65430641423127,-19.790648063087026,-24.111336827712673,-16.985636246516872,-4.738624594149143,-4.2922874222029295,3.087511913998687,-7.636121774703791,15.003379817396965,1.9450140989165643,-11.16256021723619,-10.284396062999813,-21.069918702899795,-21.644553421801955,-26.403283684723608,0.06523315125140298,-1.8250987088610857,-1.8293874799876624,-21.655609344703254,-22.636876700764784,-1.8238867213024366,2.6723054880700894,2.9625731062298852,-15.40586969613918,2.6273973882607766,-22.19804187747957,2.0298748678671155,19.35276648583819,-16.209208138172247,4.5685152124713015,3.446461533415515,5.971954610670165,-10.034700057082523,18.192458017061924,-7.452411870738214,-4.982878892418248,-12.015329350008946,-2.733044196661996,-24.47078706428271,-24.481248480522066,8.38466300249676,-15.030746153892338,-22.344967399912065,-25.0811926743341,-25.224494978907938,18.17382085946013,13.879134184914355,17.9805811254331,-2.759733932562821,5.903444822094137,-26.534046917340895,-25.465692751734014,-5.15193959806915,-10.911253132318485,8.663393634400396,3.532870032603031]}},\"id\":\"c1c25156-340a-481f-9e62-9834b29d966b\",\"type\":\"ColumnDataSource\"}],\"root_ids\":[\"52498e41-0ba8-44c2-a9bf-ac116a9d2de3\"]},\"title\":\"Bokeh Application\",\"version\":\"0.12.2\"}};\n",
       "            var render_items = [{\"docid\":\"08a7b273-1cee-486f-8c4e-0cffd376d4ee\",\"elementid\":\"d4c50546-822a-4694-ba4f-3086b5bbe0a3\",\"modelid\":\"52498e41-0ba8-44c2-a9bf-ac116a9d2de3\"}];\n",
       "            \n",
       "            Bokeh.embed.embed_items(docs_json, render_items);\n",
       "        });\n",
       "      },\n",
       "      function(Bokeh) {\n",
       "      }\n",
       "    ];\n",
       "  \n",
       "    function run_inline_js() {\n",
       "      \n",
       "      if ((window.Bokeh !== undefined) || (force === \"1\")) {\n",
       "        for (var i = 0; i < inline_js.length; i++) {\n",
       "          inline_js[i](window.Bokeh);\n",
       "        }if (force === \"1\") {\n",
       "          display_loaded();\n",
       "        }} else if (Date.now() < window._bokeh_timeout) {\n",
       "        setTimeout(run_inline_js, 100);\n",
       "      } else if (!window._bokeh_failed_load) {\n",
       "        console.log(\"Bokeh: BokehJS failed to load within specified timeout.\");\n",
       "        window._bokeh_failed_load = true;\n",
       "      } else if (!force) {\n",
       "        var cell = $(\"#d4c50546-822a-4694-ba4f-3086b5bbe0a3\").parents('.cell').data().cell;\n",
       "        cell.output_area.append_execute_result(NB_LOAD_WARNING)\n",
       "      }\n",
       "  \n",
       "    }\n",
       "  \n",
       "    if (window._bokeh_is_loading === 0) {\n",
       "      console.log(\"Bokeh: BokehJS loaded, going straight to plotting\");\n",
       "      run_inline_js();\n",
       "    } else {\n",
       "      load_libs(js_urls, function() {\n",
       "        console.log(\"Bokeh: BokehJS plotting callback run at\", now());\n",
       "        run_inline_js();\n",
       "      });\n",
       "    }\n",
       "  }(this));\n",
       "</script>"
      ]
     },
     "metadata": {},
     "output_type": "display_data"
    }
   ],
   "source": [
    "import bokeh.plotting as bp\n",
    "from bokeh.models import HoverTool \n",
    "from bokeh.palettes import brewer\n",
    "\n",
    "colors = brewer[\"Spectral\"][len(d)]\n",
    "\n",
    "#colors = [color[item] for item in df_ingre['cluster'].tolist()]]\n",
    "\n",
    "fig = bp.figure(tools=\"reset,hover\")\n",
    "\n",
    "s1 = fig.scatter(x=X_embedded[:, 0],y=X_embedded[:, 1],legend='Y',fill_alpha = 1, color=[colors[item] for item in Y],size=5)\n",
    "fig.select(dict(type=HoverTool)).tooltips = {\"x\":\"$x\", \"y\":\"$y\"}\n",
    "show(fig)"
   ]
  },
  {
   "cell_type": "code",
   "execution_count": 122,
   "metadata": {
    "collapsed": false
   },
   "outputs": [
    {
     "data": {
      "text/plain": [
       "array([[ -0.81237272, -12.5551292 ],\n",
       "       [ -8.37029146,  -9.40638049],\n",
       "       [ -1.9676582 , -12.13747254],\n",
       "       ..., \n",
       "       [ -1.62387454,   4.48953435],\n",
       "       [  8.16016583,  12.62844313],\n",
       "       [ -1.62664255,  -6.79889806]])"
      ]
     },
     "execution_count": 122,
     "metadata": {},
     "output_type": "execute_result"
    }
   ],
   "source": [
    "len(X_embedded[:, 0])\n",
    "X_embedded"
   ]
  },
  {
   "cell_type": "markdown",
   "metadata": {},
   "source": [
    "#### Saving data for D3 visualization"
   ]
  },
  {
   "cell_type": "code",
   "execution_count": 152,
   "metadata": {
    "collapsed": true
   },
   "outputs": [],
   "source": [
    "tsv = pd.DataFrame(data=X_embedded,columns=['X', 'Y'])"
   ]
  },
  {
   "cell_type": "code",
   "execution_count": 153,
   "metadata": {
    "collapsed": false
   },
   "outputs": [],
   "source": [
    "tsv['Cat'] = df_merged['new_Cat']"
   ]
  },
  {
   "cell_type": "code",
   "execution_count": 154,
   "metadata": {
    "collapsed": false
   },
   "outputs": [],
   "source": [
    "tsv.to_csv('scatter.tsv',sep='\\t',header=True, index=False)"
   ]
  },
  {
   "cell_type": "code",
   "execution_count": 134,
   "metadata": {
    "collapsed": false
   },
   "outputs": [
    {
     "data": {
      "text/html": [
       "<div>\n",
       "<table border=\"1\" class=\"dataframe\">\n",
       "  <thead>\n",
       "    <tr style=\"text-align: right;\">\n",
       "      <th></th>\n",
       "      <th>recipe_id</th>\n",
       "      <th>fava beans</th>\n",
       "      <th>ale</th>\n",
       "      <th>mortadella</th>\n",
       "      <th>skate</th>\n",
       "      <th>parmesan</th>\n",
       "      <th>passion fruit</th>\n",
       "      <th>milk</th>\n",
       "      <th>blueberries</th>\n",
       "      <th>bell peppers</th>\n",
       "      <th>...</th>\n",
       "      <th>lg_no_ratings</th>\n",
       "      <th>lg_rating</th>\n",
       "      <th>lg_prep_time_total</th>\n",
       "      <th>lg_cook_time_total</th>\n",
       "      <th>lg_ready_in_total</th>\n",
       "      <th>lg_no_ingre</th>\n",
       "      <th>lg_no_steps</th>\n",
       "      <th>ingre_only</th>\n",
       "      <th>new_Cat</th>\n",
       "      <th>new_Cat_num</th>\n",
       "    </tr>\n",
       "  </thead>\n",
       "  <tbody>\n",
       "    <tr>\n",
       "      <th>0</th>\n",
       "      <td>70404</td>\n",
       "      <td>0</td>\n",
       "      <td>0</td>\n",
       "      <td>0</td>\n",
       "      <td>0</td>\n",
       "      <td>0</td>\n",
       "      <td>0</td>\n",
       "      <td>0</td>\n",
       "      <td>0</td>\n",
       "      <td>0</td>\n",
       "      <td>...</td>\n",
       "      <td>3.078819</td>\n",
       "      <td>0.740363</td>\n",
       "      <td>1.20412</td>\n",
       "      <td>1.491362</td>\n",
       "      <td>1.662758</td>\n",
       "      <td>1.230449</td>\n",
       "      <td>0.60206</td>\n",
       "      <td>{\"1 pound ground beef\",\"1/2 cup chopped onion\"...</td>\n",
       "      <td>Latin American</td>\n",
       "      <td>0</td>\n",
       "    </tr>\n",
       "  </tbody>\n",
       "</table>\n",
       "<p>1 rows × 482 columns</p>\n",
       "</div>"
      ],
      "text/plain": [
       "   recipe_id  fava beans  ale  mortadella  skate  parmesan  passion fruit  \\\n",
       "0      70404           0    0           0      0         0              0   \n",
       "\n",
       "   milk  blueberries  bell peppers     ...       lg_no_ratings  lg_rating  \\\n",
       "0     0            0             0     ...            3.078819   0.740363   \n",
       "\n",
       "   lg_prep_time_total  lg_cook_time_total  lg_ready_in_total  lg_no_ingre  \\\n",
       "0             1.20412            1.491362           1.662758     1.230449   \n",
       "\n",
       "   lg_no_steps                                         ingre_only  \\\n",
       "0      0.60206  {\"1 pound ground beef\",\"1/2 cup chopped onion\"...   \n",
       "\n",
       "          new_Cat  new_Cat_num  \n",
       "0  Latin American            0  \n",
       "\n",
       "[1 rows x 482 columns]"
      ]
     },
     "execution_count": 134,
     "metadata": {},
     "output_type": "execute_result"
    }
   ],
   "source": [
    "df_merged.head(1)"
   ]
  },
  {
   "cell_type": "code",
   "execution_count": 135,
   "metadata": {
    "collapsed": true
   },
   "outputs": [],
   "source": [
    "import pickle\n",
    "with open('df_merged.p', 'wb') as f:\n",
    "    pickle.dump(df_merged, f)"
   ]
  },
  {
   "cell_type": "code",
   "execution_count": null,
   "metadata": {
    "collapsed": true
   },
   "outputs": [],
   "source": []
  }
 ],
 "metadata": {
  "kernelspec": {
   "display_name": "Python [conda env:py27]",
   "language": "python",
   "name": "conda-env-py27-py"
  },
  "language_info": {
   "codemirror_mode": {
    "name": "ipython",
    "version": 2
   },
   "file_extension": ".py",
   "mimetype": "text/x-python",
   "name": "python",
   "nbconvert_exporter": "python",
   "pygments_lexer": "ipython2",
   "version": "2.7.12"
  }
 },
 "nbformat": 4,
 "nbformat_minor": 1
}
